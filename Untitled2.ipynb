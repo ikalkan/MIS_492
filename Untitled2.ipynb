{
 "cells": [
  {
   "cell_type": "code",
   "execution_count": 1,
   "id": "a21e71fa",
   "metadata": {},
   "outputs": [],
   "source": [
    "import numpy as np\n",
    "import pandas as pd\n",
    "import matplotlib.pyplot as plt\n",
    "import seaborn as sns\n",
    "%matplotlib inline\n",
    "import warnings\n",
    "warnings.filterwarnings('ignore')\n",
    "from sklearn.ensemble import RandomForestClassifier\n",
    "from sklearn.svm import SVC\n",
    "from sklearn.linear_model import SGDClassifier\n",
    "from sklearn.metrics import confusion_matrix, classification_report\n",
    "from sklearn.preprocessing import StandardScaler, LabelEncoder\n",
    "from sklearn.model_selection import train_test_split, GridSearchCV, cross_val_score\n",
    "from time import time\n",
    "import numpy as np\n",
    "import pandas as pd\n",
    "import xgboost\n",
    "import math\n",
    "import seaborn as sns\n",
    "import matplotlib\n",
    "import matplotlib.pyplot as plt\n",
    "from __future__ import division\n",
    "from scipy.stats import pearsonr\n",
    "from sklearn.linear_model import LinearRegression\n",
    "#from sklearn import cross_validation, tree, linear_model\n",
    "from sklearn.model_selection import train_test_split\n",
    "#from sklearn.cross_validation import ShuffleSplit\n",
    "from sklearn.metrics import explained_variance_score\n",
    "#import sklearn.learning_curve as curves\n",
    "from time import time\n",
    "from sklearn.metrics import r2_score\n",
    "import os\n",
    "#print(os.listdir(\"../input\"))"
   ]
  },
  {
   "cell_type": "code",
   "execution_count": 2,
   "id": "95552cfc",
   "metadata": {},
   "outputs": [],
   "source": [
    "data_movies = '/Users/ibrahim/Downloads/archive/IMDB movies.csv'"
   ]
  },
  {
   "cell_type": "code",
   "execution_count": 3,
   "id": "f0762dc9",
   "metadata": {},
   "outputs": [],
   "source": [
    "data_names = '/Users/ibrahim/Downloads/archive/IMDB names.csv'"
   ]
  },
  {
   "cell_type": "code",
   "execution_count": 4,
   "id": "5f3703bc",
   "metadata": {},
   "outputs": [],
   "source": [
    "data_ratings = '/Users/ibrahim/Downloads/archive/IMDB ratings.csv'"
   ]
  },
  {
   "cell_type": "code",
   "execution_count": 5,
   "id": "06041ab6",
   "metadata": {},
   "outputs": [],
   "source": [
    "data_title_principals = '/Users/ibrahim/Downloads/archive/IMDB title_principals.csv'"
   ]
  },
  {
   "cell_type": "code",
   "execution_count": 6,
   "id": "ac834c3e",
   "metadata": {},
   "outputs": [],
   "source": [
    "df1 = pd.read_csv(data_movies)"
   ]
  },
  {
   "cell_type": "code",
   "execution_count": 7,
   "id": "f0d768cf",
   "metadata": {},
   "outputs": [],
   "source": [
    "df2 = pd.read_csv(data_names)"
   ]
  },
  {
   "cell_type": "code",
   "execution_count": 8,
   "id": "6a9afc7a",
   "metadata": {},
   "outputs": [],
   "source": [
    "df3 = pd.read_csv(data_ratings)"
   ]
  },
  {
   "cell_type": "code",
   "execution_count": 9,
   "id": "ca8baece",
   "metadata": {},
   "outputs": [],
   "source": [
    "df4 = pd.read_csv(data_title_principals)"
   ]
  },
  {
   "cell_type": "code",
   "execution_count": 10,
   "id": "881532fd",
   "metadata": {},
   "outputs": [
    {
     "data": {
      "text/html": [
       "<div>\n",
       "<style scoped>\n",
       "    .dataframe tbody tr th:only-of-type {\n",
       "        vertical-align: middle;\n",
       "    }\n",
       "\n",
       "    .dataframe tbody tr th {\n",
       "        vertical-align: top;\n",
       "    }\n",
       "\n",
       "    .dataframe thead th {\n",
       "        text-align: right;\n",
       "    }\n",
       "</style>\n",
       "<table border=\"1\" class=\"dataframe\">\n",
       "  <thead>\n",
       "    <tr style=\"text-align: right;\">\n",
       "      <th></th>\n",
       "      <th>imdb_title_id</th>\n",
       "      <th>title</th>\n",
       "      <th>original_title</th>\n",
       "      <th>year</th>\n",
       "      <th>date_published</th>\n",
       "      <th>genre</th>\n",
       "      <th>duration</th>\n",
       "      <th>country</th>\n",
       "      <th>language</th>\n",
       "      <th>director</th>\n",
       "      <th>...</th>\n",
       "      <th>females_30age_avg_vote</th>\n",
       "      <th>females_30age_votes</th>\n",
       "      <th>females_45age_avg_vote</th>\n",
       "      <th>females_45age_votes</th>\n",
       "      <th>top1000_voters_rating</th>\n",
       "      <th>top1000_voters_votes</th>\n",
       "      <th>us_voters_rating</th>\n",
       "      <th>us_voters_votes</th>\n",
       "      <th>non_us_voters_rating</th>\n",
       "      <th>non_us_voters_votes</th>\n",
       "    </tr>\n",
       "  </thead>\n",
       "  <tbody>\n",
       "    <tr>\n",
       "      <th>0</th>\n",
       "      <td>tt0000009</td>\n",
       "      <td>Miss Jerry</td>\n",
       "      <td>Miss Jerry</td>\n",
       "      <td>1894</td>\n",
       "      <td>1894-10-09</td>\n",
       "      <td>Romance</td>\n",
       "      <td>45</td>\n",
       "      <td>USA</td>\n",
       "      <td>None</td>\n",
       "      <td>Alexander Black</td>\n",
       "      <td>...</td>\n",
       "      <td>5.7</td>\n",
       "      <td>13.0</td>\n",
       "      <td>4.5</td>\n",
       "      <td>4.0</td>\n",
       "      <td>5.7</td>\n",
       "      <td>34.0</td>\n",
       "      <td>6.4</td>\n",
       "      <td>51.0</td>\n",
       "      <td>6.0</td>\n",
       "      <td>70.0</td>\n",
       "    </tr>\n",
       "    <tr>\n",
       "      <th>1</th>\n",
       "      <td>tt0000574</td>\n",
       "      <td>The Story of the Kelly Gang</td>\n",
       "      <td>The Story of the Kelly Gang</td>\n",
       "      <td>1906</td>\n",
       "      <td>1906-12-26</td>\n",
       "      <td>Biography, Crime, Drama</td>\n",
       "      <td>70</td>\n",
       "      <td>Australia</td>\n",
       "      <td>None</td>\n",
       "      <td>Charles Tait</td>\n",
       "      <td>...</td>\n",
       "      <td>6.2</td>\n",
       "      <td>23.0</td>\n",
       "      <td>6.6</td>\n",
       "      <td>14.0</td>\n",
       "      <td>6.4</td>\n",
       "      <td>66.0</td>\n",
       "      <td>6.0</td>\n",
       "      <td>96.0</td>\n",
       "      <td>6.2</td>\n",
       "      <td>331.0</td>\n",
       "    </tr>\n",
       "    <tr>\n",
       "      <th>2</th>\n",
       "      <td>tt0001892</td>\n",
       "      <td>Den sorte drøm</td>\n",
       "      <td>Den sorte drøm</td>\n",
       "      <td>1911</td>\n",
       "      <td>1911-08-19</td>\n",
       "      <td>Drama</td>\n",
       "      <td>53</td>\n",
       "      <td>Germany, Denmark</td>\n",
       "      <td>NaN</td>\n",
       "      <td>Urban Gad</td>\n",
       "      <td>...</td>\n",
       "      <td>5.8</td>\n",
       "      <td>4.0</td>\n",
       "      <td>6.8</td>\n",
       "      <td>7.0</td>\n",
       "      <td>5.4</td>\n",
       "      <td>32.0</td>\n",
       "      <td>6.2</td>\n",
       "      <td>31.0</td>\n",
       "      <td>5.9</td>\n",
       "      <td>123.0</td>\n",
       "    </tr>\n",
       "    <tr>\n",
       "      <th>3</th>\n",
       "      <td>tt0002101</td>\n",
       "      <td>Cleopatra</td>\n",
       "      <td>Cleopatra</td>\n",
       "      <td>1912</td>\n",
       "      <td>1912-11-13</td>\n",
       "      <td>Drama, History</td>\n",
       "      <td>100</td>\n",
       "      <td>USA</td>\n",
       "      <td>English</td>\n",
       "      <td>Charles L. Gaskill</td>\n",
       "      <td>...</td>\n",
       "      <td>5.5</td>\n",
       "      <td>14.0</td>\n",
       "      <td>6.1</td>\n",
       "      <td>21.0</td>\n",
       "      <td>4.9</td>\n",
       "      <td>57.0</td>\n",
       "      <td>5.5</td>\n",
       "      <td>207.0</td>\n",
       "      <td>4.7</td>\n",
       "      <td>105.0</td>\n",
       "    </tr>\n",
       "    <tr>\n",
       "      <th>4</th>\n",
       "      <td>tt0002130</td>\n",
       "      <td>L'Inferno</td>\n",
       "      <td>L'Inferno</td>\n",
       "      <td>1911</td>\n",
       "      <td>1911-03-06</td>\n",
       "      <td>Adventure, Drama, Fantasy</td>\n",
       "      <td>68</td>\n",
       "      <td>Italy</td>\n",
       "      <td>Italian</td>\n",
       "      <td>Francesco Bertolini, Adolfo Padovan</td>\n",
       "      <td>...</td>\n",
       "      <td>7.3</td>\n",
       "      <td>82.0</td>\n",
       "      <td>7.4</td>\n",
       "      <td>77.0</td>\n",
       "      <td>6.9</td>\n",
       "      <td>139.0</td>\n",
       "      <td>7.0</td>\n",
       "      <td>488.0</td>\n",
       "      <td>7.0</td>\n",
       "      <td>1166.0</td>\n",
       "    </tr>\n",
       "    <tr>\n",
       "      <th>...</th>\n",
       "      <td>...</td>\n",
       "      <td>...</td>\n",
       "      <td>...</td>\n",
       "      <td>...</td>\n",
       "      <td>...</td>\n",
       "      <td>...</td>\n",
       "      <td>...</td>\n",
       "      <td>...</td>\n",
       "      <td>...</td>\n",
       "      <td>...</td>\n",
       "      <td>...</td>\n",
       "      <td>...</td>\n",
       "      <td>...</td>\n",
       "      <td>...</td>\n",
       "      <td>...</td>\n",
       "      <td>...</td>\n",
       "      <td>...</td>\n",
       "      <td>...</td>\n",
       "      <td>...</td>\n",
       "      <td>...</td>\n",
       "      <td>...</td>\n",
       "    </tr>\n",
       "    <tr>\n",
       "      <th>85850</th>\n",
       "      <td>tt9908390</td>\n",
       "      <td>Le lion</td>\n",
       "      <td>Le lion</td>\n",
       "      <td>2020</td>\n",
       "      <td>2020-01-29</td>\n",
       "      <td>Comedy</td>\n",
       "      <td>95</td>\n",
       "      <td>France, Belgium</td>\n",
       "      <td>French</td>\n",
       "      <td>Ludovic Colbeau-Justin</td>\n",
       "      <td>...</td>\n",
       "      <td>5.7</td>\n",
       "      <td>11.0</td>\n",
       "      <td>5.0</td>\n",
       "      <td>2.0</td>\n",
       "      <td>5.5</td>\n",
       "      <td>12.0</td>\n",
       "      <td>6.3</td>\n",
       "      <td>22.0</td>\n",
       "      <td>5.3</td>\n",
       "      <td>214.0</td>\n",
       "    </tr>\n",
       "    <tr>\n",
       "      <th>85851</th>\n",
       "      <td>tt9911196</td>\n",
       "      <td>De Beentjes van Sint-Hildegard</td>\n",
       "      <td>De Beentjes van Sint-Hildegard</td>\n",
       "      <td>2020</td>\n",
       "      <td>2020-02-13</td>\n",
       "      <td>Comedy, Drama</td>\n",
       "      <td>103</td>\n",
       "      <td>Netherlands</td>\n",
       "      <td>German, Dutch</td>\n",
       "      <td>Johan Nijenhuis</td>\n",
       "      <td>...</td>\n",
       "      <td>8.0</td>\n",
       "      <td>47.0</td>\n",
       "      <td>7.3</td>\n",
       "      <td>30.0</td>\n",
       "      <td>7.0</td>\n",
       "      <td>6.0</td>\n",
       "      <td>6.8</td>\n",
       "      <td>13.0</td>\n",
       "      <td>7.7</td>\n",
       "      <td>388.0</td>\n",
       "    </tr>\n",
       "    <tr>\n",
       "      <th>85852</th>\n",
       "      <td>tt9911774</td>\n",
       "      <td>Padmavyuhathile Abhimanyu</td>\n",
       "      <td>Padmavyuhathile Abhimanyu</td>\n",
       "      <td>2019</td>\n",
       "      <td>2019-03-08</td>\n",
       "      <td>Drama</td>\n",
       "      <td>130</td>\n",
       "      <td>India</td>\n",
       "      <td>Malayalam</td>\n",
       "      <td>Vineesh Aaradya</td>\n",
       "      <td>...</td>\n",
       "      <td>NaN</td>\n",
       "      <td>NaN</td>\n",
       "      <td>NaN</td>\n",
       "      <td>NaN</td>\n",
       "      <td>1.0</td>\n",
       "      <td>1.0</td>\n",
       "      <td>NaN</td>\n",
       "      <td>NaN</td>\n",
       "      <td>2.0</td>\n",
       "      <td>2.0</td>\n",
       "    </tr>\n",
       "    <tr>\n",
       "      <th>85853</th>\n",
       "      <td>tt9914286</td>\n",
       "      <td>Sokagin Çocuklari</td>\n",
       "      <td>Sokagin Çocuklari</td>\n",
       "      <td>2019</td>\n",
       "      <td>2019-03-15</td>\n",
       "      <td>Drama, Family</td>\n",
       "      <td>98</td>\n",
       "      <td>Turkey</td>\n",
       "      <td>Turkish</td>\n",
       "      <td>Ahmet Faik Akinci</td>\n",
       "      <td>...</td>\n",
       "      <td>NaN</td>\n",
       "      <td>NaN</td>\n",
       "      <td>7.0</td>\n",
       "      <td>1.0</td>\n",
       "      <td>4.0</td>\n",
       "      <td>3.0</td>\n",
       "      <td>1.7</td>\n",
       "      <td>5.0</td>\n",
       "      <td>5.8</td>\n",
       "      <td>5.0</td>\n",
       "    </tr>\n",
       "    <tr>\n",
       "      <th>85854</th>\n",
       "      <td>tt9914942</td>\n",
       "      <td>La vida sense la Sara Amat</td>\n",
       "      <td>La vida sense la Sara Amat</td>\n",
       "      <td>2019</td>\n",
       "      <td>2020-02-05</td>\n",
       "      <td>Drama</td>\n",
       "      <td>74</td>\n",
       "      <td>Spain</td>\n",
       "      <td>Catalan</td>\n",
       "      <td>Laura Jou</td>\n",
       "      <td>...</td>\n",
       "      <td>6.8</td>\n",
       "      <td>4.0</td>\n",
       "      <td>7.5</td>\n",
       "      <td>4.0</td>\n",
       "      <td>7.0</td>\n",
       "      <td>4.0</td>\n",
       "      <td>6.7</td>\n",
       "      <td>13.0</td>\n",
       "      <td>6.7</td>\n",
       "      <td>60.0</td>\n",
       "    </tr>\n",
       "  </tbody>\n",
       "</table>\n",
       "<p>85855 rows × 70 columns</p>\n",
       "</div>"
      ],
      "text/plain": [
       "      imdb_title_id                           title  \\\n",
       "0         tt0000009                      Miss Jerry   \n",
       "1         tt0000574     The Story of the Kelly Gang   \n",
       "2         tt0001892                  Den sorte drøm   \n",
       "3         tt0002101                       Cleopatra   \n",
       "4         tt0002130                       L'Inferno   \n",
       "...             ...                             ...   \n",
       "85850     tt9908390                         Le lion   \n",
       "85851     tt9911196  De Beentjes van Sint-Hildegard   \n",
       "85852     tt9911774       Padmavyuhathile Abhimanyu   \n",
       "85853     tt9914286               Sokagin Çocuklari   \n",
       "85854     tt9914942      La vida sense la Sara Amat   \n",
       "\n",
       "                       original_title  year date_published  \\\n",
       "0                          Miss Jerry  1894     1894-10-09   \n",
       "1         The Story of the Kelly Gang  1906     1906-12-26   \n",
       "2                      Den sorte drøm  1911     1911-08-19   \n",
       "3                           Cleopatra  1912     1912-11-13   \n",
       "4                           L'Inferno  1911     1911-03-06   \n",
       "...                               ...   ...            ...   \n",
       "85850                         Le lion  2020     2020-01-29   \n",
       "85851  De Beentjes van Sint-Hildegard  2020     2020-02-13   \n",
       "85852       Padmavyuhathile Abhimanyu  2019     2019-03-08   \n",
       "85853               Sokagin Çocuklari  2019     2019-03-15   \n",
       "85854      La vida sense la Sara Amat  2019     2020-02-05   \n",
       "\n",
       "                           genre  duration           country       language  \\\n",
       "0                        Romance        45               USA           None   \n",
       "1        Biography, Crime, Drama        70         Australia           None   \n",
       "2                          Drama        53  Germany, Denmark            NaN   \n",
       "3                 Drama, History       100               USA        English   \n",
       "4      Adventure, Drama, Fantasy        68             Italy        Italian   \n",
       "...                          ...       ...               ...            ...   \n",
       "85850                     Comedy        95   France, Belgium         French   \n",
       "85851              Comedy, Drama       103       Netherlands  German, Dutch   \n",
       "85852                      Drama       130             India      Malayalam   \n",
       "85853              Drama, Family        98            Turkey        Turkish   \n",
       "85854                      Drama        74             Spain        Catalan   \n",
       "\n",
       "                                  director  ... females_30age_avg_vote  \\\n",
       "0                          Alexander Black  ...                    5.7   \n",
       "1                             Charles Tait  ...                    6.2   \n",
       "2                                Urban Gad  ...                    5.8   \n",
       "3                       Charles L. Gaskill  ...                    5.5   \n",
       "4      Francesco Bertolini, Adolfo Padovan  ...                    7.3   \n",
       "...                                    ...  ...                    ...   \n",
       "85850               Ludovic Colbeau-Justin  ...                    5.7   \n",
       "85851                      Johan Nijenhuis  ...                    8.0   \n",
       "85852                      Vineesh Aaradya  ...                    NaN   \n",
       "85853                    Ahmet Faik Akinci  ...                    NaN   \n",
       "85854                            Laura Jou  ...                    6.8   \n",
       "\n",
       "      females_30age_votes females_45age_avg_vote females_45age_votes  \\\n",
       "0                    13.0                    4.5                 4.0   \n",
       "1                    23.0                    6.6                14.0   \n",
       "2                     4.0                    6.8                 7.0   \n",
       "3                    14.0                    6.1                21.0   \n",
       "4                    82.0                    7.4                77.0   \n",
       "...                   ...                    ...                 ...   \n",
       "85850                11.0                    5.0                 2.0   \n",
       "85851                47.0                    7.3                30.0   \n",
       "85852                 NaN                    NaN                 NaN   \n",
       "85853                 NaN                    7.0                 1.0   \n",
       "85854                 4.0                    7.5                 4.0   \n",
       "\n",
       "       top1000_voters_rating  top1000_voters_votes us_voters_rating  \\\n",
       "0                        5.7                  34.0              6.4   \n",
       "1                        6.4                  66.0              6.0   \n",
       "2                        5.4                  32.0              6.2   \n",
       "3                        4.9                  57.0              5.5   \n",
       "4                        6.9                 139.0              7.0   \n",
       "...                      ...                   ...              ...   \n",
       "85850                    5.5                  12.0              6.3   \n",
       "85851                    7.0                   6.0              6.8   \n",
       "85852                    1.0                   1.0              NaN   \n",
       "85853                    4.0                   3.0              1.7   \n",
       "85854                    7.0                   4.0              6.7   \n",
       "\n",
       "      us_voters_votes non_us_voters_rating  non_us_voters_votes  \n",
       "0                51.0                  6.0                 70.0  \n",
       "1                96.0                  6.2                331.0  \n",
       "2                31.0                  5.9                123.0  \n",
       "3               207.0                  4.7                105.0  \n",
       "4               488.0                  7.0               1166.0  \n",
       "...               ...                  ...                  ...  \n",
       "85850            22.0                  5.3                214.0  \n",
       "85851            13.0                  7.7                388.0  \n",
       "85852             NaN                  2.0                  2.0  \n",
       "85853             5.0                  5.8                  5.0  \n",
       "85854            13.0                  6.7                 60.0  \n",
       "\n",
       "[85855 rows x 70 columns]"
      ]
     },
     "execution_count": 10,
     "metadata": {},
     "output_type": "execute_result"
    }
   ],
   "source": [
    "pd.merge(df1, df3, on='imdb_title_id')"
   ]
  },
  {
   "cell_type": "code",
   "execution_count": 11,
   "id": "6bc09e96",
   "metadata": {},
   "outputs": [],
   "source": [
    "df_merged = pd.merge(df1, df3, on='imdb_title_id')"
   ]
  },
  {
   "cell_type": "code",
   "execution_count": 12,
   "id": "9060323a",
   "metadata": {},
   "outputs": [
    {
     "name": "stdout",
     "output_type": "stream",
     "text": [
      "<class 'pandas.core.frame.DataFrame'>\n",
      "Int64Index: 85855 entries, 0 to 85854\n",
      "Data columns (total 70 columns):\n",
      " #   Column                     Non-Null Count  Dtype  \n",
      "---  ------                     --------------  -----  \n",
      " 0   imdb_title_id              85855 non-null  object \n",
      " 1   title                      85855 non-null  object \n",
      " 2   original_title             85855 non-null  object \n",
      " 3   year                       85855 non-null  object \n",
      " 4   date_published             85855 non-null  object \n",
      " 5   genre                      85855 non-null  object \n",
      " 6   duration                   85855 non-null  int64  \n",
      " 7   country                    85791 non-null  object \n",
      " 8   language                   85022 non-null  object \n",
      " 9   director                   85768 non-null  object \n",
      " 10  writer                     84283 non-null  object \n",
      " 11  production_company         81400 non-null  object \n",
      " 12  actors                     85786 non-null  object \n",
      " 13  description                83740 non-null  object \n",
      " 14  avg_vote                   85855 non-null  float64\n",
      " 15  votes                      85855 non-null  int64  \n",
      " 16  budget                     23710 non-null  object \n",
      " 17  usa_gross_income           15326 non-null  object \n",
      " 18  worlwide_gross_income      31016 non-null  object \n",
      " 19  metascore                  13305 non-null  float64\n",
      " 20  reviews_from_users         78258 non-null  float64\n",
      " 21  reviews_from_critics       74058 non-null  float64\n",
      " 22  weighted_average_vote      85855 non-null  float64\n",
      " 23  total_votes                85855 non-null  int64  \n",
      " 24  mean_vote                  85855 non-null  float64\n",
      " 25  median_vote                85855 non-null  float64\n",
      " 26  votes_10                   85855 non-null  int64  \n",
      " 27  votes_9                    85855 non-null  int64  \n",
      " 28  votes_8                    85855 non-null  int64  \n",
      " 29  votes_7                    85855 non-null  int64  \n",
      " 30  votes_6                    85855 non-null  int64  \n",
      " 31  votes_5                    85855 non-null  int64  \n",
      " 32  votes_4                    85855 non-null  int64  \n",
      " 33  votes_3                    85855 non-null  int64  \n",
      " 34  votes_2                    85855 non-null  int64  \n",
      " 35  votes_1                    85855 non-null  int64  \n",
      " 36  allgenders_0age_avg_vote   33359 non-null  float64\n",
      " 37  allgenders_0age_votes      33359 non-null  float64\n",
      " 38  allgenders_18age_avg_vote  85149 non-null  float64\n",
      " 39  allgenders_18age_votes     85149 non-null  float64\n",
      " 40  allgenders_30age_avg_vote  85845 non-null  float64\n",
      " 41  allgenders_30age_votes     85845 non-null  float64\n",
      " 42  allgenders_45age_avg_vote  85775 non-null  float64\n",
      " 43  allgenders_45age_votes     85775 non-null  float64\n",
      " 44  males_allages_avg_vote     85854 non-null  float64\n",
      " 45  males_allages_votes        85854 non-null  float64\n",
      " 46  males_0age_avg_vote        27411 non-null  float64\n",
      " 47  males_0age_votes           27411 non-null  float64\n",
      " 48  males_18age_avg_vote       84390 non-null  float64\n",
      " 49  males_18age_votes          84390 non-null  float64\n",
      " 50  males_30age_avg_vote       85843 non-null  float64\n",
      " 51  males_30age_votes          85843 non-null  float64\n",
      " 52  males_45age_avg_vote       85754 non-null  float64\n",
      " 53  males_45age_votes          85754 non-null  float64\n",
      " 54  females_allages_avg_vote   85774 non-null  float64\n",
      " 55  females_allages_votes      85774 non-null  float64\n",
      " 56  females_0age_avg_vote      22117 non-null  float64\n",
      " 57  females_0age_votes         22117 non-null  float64\n",
      " 58  females_18age_avg_vote     79334 non-null  float64\n",
      " 59  females_18age_votes        79334 non-null  float64\n",
      " 60  females_30age_avg_vote     84911 non-null  float64\n",
      " 61  females_30age_votes        84911 non-null  float64\n",
      " 62  females_45age_avg_vote     83057 non-null  float64\n",
      " 63  females_45age_votes        83057 non-null  float64\n",
      " 64  top1000_voters_rating      85176 non-null  float64\n",
      " 65  top1000_voters_votes       85176 non-null  float64\n",
      " 66  us_voters_rating           85646 non-null  float64\n",
      " 67  us_voters_votes            85646 non-null  float64\n",
      " 68  non_us_voters_rating       85854 non-null  float64\n",
      " 69  non_us_voters_votes        85854 non-null  float64\n",
      "dtypes: float64(41), int64(13), object(16)\n",
      "memory usage: 46.5+ MB\n"
     ]
    }
   ],
   "source": [
    "df_merged.info()"
   ]
  },
  {
   "cell_type": "code",
   "execution_count": 13,
   "id": "0a25d72d",
   "metadata": {},
   "outputs": [],
   "source": [
    "df_merged = df_merged.dropna(subset=[\"females_30age_votes\",\"females_30age_avg_vote\",\"females_18age_votes\",\"females_18age_avg_vote\",\"females_0age_votes\",\"females_0age_avg_vote\",\"males_18age_votes\",\"males_18age_avg_vote\",\"males_0age_votes\",\"males_0age_avg_vote\",\"allgenders_0age_votes\",\"allgenders_0age_avg_vote\",\"reviews_from_critics\",\"reviews_from_users\",\"metascore\",\"budget\",\"country\",\"weighted_average_vote\",\"language\",\"usa_gross_income\",\"worlwide_gross_income\",\"production_company\",\"writer\"])"
   ]
  },
  {
   "cell_type": "code",
   "execution_count": 14,
   "id": "a5c29ced",
   "metadata": {},
   "outputs": [],
   "source": [
    "df_merged[\"date_published\"] = pd.to_datetime(df_merged[\"date_published\"])"
   ]
  },
  {
   "cell_type": "code",
   "execution_count": 15,
   "id": "e36c6c12",
   "metadata": {},
   "outputs": [
    {
     "data": {
      "text/plain": [
       "506     1928\n",
       "1048    1931\n",
       "2454    1937\n",
       "2795    1937\n",
       "2827    1938\n",
       "Name: year_published, dtype: int64"
      ]
     },
     "execution_count": 15,
     "metadata": {},
     "output_type": "execute_result"
    }
   ],
   "source": [
    "df_merged[\"year_published\"] = df_merged[\"date_published\"].dt.year\n",
    "\n",
    "df_merged[\"year_published\"].head()"
   ]
  },
  {
   "cell_type": "code",
   "execution_count": 16,
   "id": "535531b3",
   "metadata": {},
   "outputs": [
    {
     "data": {
      "text/plain": [
       "506     10\n",
       "1048     4\n",
       "2454     3\n",
       "2795    10\n",
       "2827    11\n",
       "Name: month_published, dtype: int64"
      ]
     },
     "execution_count": 16,
     "metadata": {},
     "output_type": "execute_result"
    }
   ],
   "source": [
    "df_merged[\"month_published\"] = df_merged[\"date_published\"].dt.month\n",
    "\n",
    "df_merged[\"month_published\"].head()"
   ]
  },
  {
   "cell_type": "code",
   "execution_count": 17,
   "id": "00bf4686",
   "metadata": {},
   "outputs": [
    {
     "data": {
      "text/plain": [
       "506      1\n",
       "1048     2\n",
       "2454    12\n",
       "2795    22\n",
       "2827    30\n",
       "Name: day_published, dtype: int64"
      ]
     },
     "execution_count": 17,
     "metadata": {},
     "output_type": "execute_result"
    }
   ],
   "source": [
    "df_merged[\"day_published\"] = df_merged[\"date_published\"].dt.day\n",
    "\n",
    "df_merged[\"day_published\"].head()"
   ]
  },
  {
   "cell_type": "code",
   "execution_count": 18,
   "id": "b86587aa",
   "metadata": {},
   "outputs": [],
   "source": [
    "df_merged.drop(\"date_published\", axis=1, inplace=True)\n",
    "df_merged.drop(\"imdb_title_id\", axis=1, inplace=True)\n",
    "df_merged.drop(\"title\", axis=1, inplace=True)\n",
    "df_merged.drop(\"original_title\", axis=1, inplace=True)\n",
    "df_merged.drop(\"description\", axis=1, inplace=True)\n",
    "df_merged.drop(\"year\", axis=1, inplace=True)\n",
    "df_merged.drop(\"actors\", axis=1, inplace=True)\n",
    "df_merged.drop(\"writer\", axis=1, inplace=True)\n",
    "\n",
    "\n",
    "\n"
   ]
  },
  {
   "cell_type": "code",
   "execution_count": 19,
   "id": "b7c2b246",
   "metadata": {},
   "outputs": [
    {
     "name": "stdout",
     "output_type": "stream",
     "text": [
      "<class 'pandas.core.frame.DataFrame'>\n",
      "Int64Index: 4877 entries, 506 to 85740\n",
      "Data columns (total 65 columns):\n",
      " #   Column                     Non-Null Count  Dtype  \n",
      "---  ------                     --------------  -----  \n",
      " 0   genre                      4877 non-null   object \n",
      " 1   duration                   4877 non-null   int64  \n",
      " 2   country                    4877 non-null   object \n",
      " 3   language                   4877 non-null   object \n",
      " 4   director                   4877 non-null   object \n",
      " 5   production_company         4877 non-null   object \n",
      " 6   avg_vote                   4877 non-null   float64\n",
      " 7   votes                      4877 non-null   int64  \n",
      " 8   budget                     4877 non-null   object \n",
      " 9   usa_gross_income           4877 non-null   object \n",
      " 10  worlwide_gross_income      4877 non-null   object \n",
      " 11  metascore                  4877 non-null   float64\n",
      " 12  reviews_from_users         4877 non-null   float64\n",
      " 13  reviews_from_critics       4877 non-null   float64\n",
      " 14  weighted_average_vote      4877 non-null   float64\n",
      " 15  total_votes                4877 non-null   int64  \n",
      " 16  mean_vote                  4877 non-null   float64\n",
      " 17  median_vote                4877 non-null   float64\n",
      " 18  votes_10                   4877 non-null   int64  \n",
      " 19  votes_9                    4877 non-null   int64  \n",
      " 20  votes_8                    4877 non-null   int64  \n",
      " 21  votes_7                    4877 non-null   int64  \n",
      " 22  votes_6                    4877 non-null   int64  \n",
      " 23  votes_5                    4877 non-null   int64  \n",
      " 24  votes_4                    4877 non-null   int64  \n",
      " 25  votes_3                    4877 non-null   int64  \n",
      " 26  votes_2                    4877 non-null   int64  \n",
      " 27  votes_1                    4877 non-null   int64  \n",
      " 28  allgenders_0age_avg_vote   4877 non-null   float64\n",
      " 29  allgenders_0age_votes      4877 non-null   float64\n",
      " 30  allgenders_18age_avg_vote  4877 non-null   float64\n",
      " 31  allgenders_18age_votes     4877 non-null   float64\n",
      " 32  allgenders_30age_avg_vote  4877 non-null   float64\n",
      " 33  allgenders_30age_votes     4877 non-null   float64\n",
      " 34  allgenders_45age_avg_vote  4877 non-null   float64\n",
      " 35  allgenders_45age_votes     4877 non-null   float64\n",
      " 36  males_allages_avg_vote     4877 non-null   float64\n",
      " 37  males_allages_votes        4877 non-null   float64\n",
      " 38  males_0age_avg_vote        4877 non-null   float64\n",
      " 39  males_0age_votes           4877 non-null   float64\n",
      " 40  males_18age_avg_vote       4877 non-null   float64\n",
      " 41  males_18age_votes          4877 non-null   float64\n",
      " 42  males_30age_avg_vote       4877 non-null   float64\n",
      " 43  males_30age_votes          4877 non-null   float64\n",
      " 44  males_45age_avg_vote       4877 non-null   float64\n",
      " 45  males_45age_votes          4877 non-null   float64\n",
      " 46  females_allages_avg_vote   4877 non-null   float64\n",
      " 47  females_allages_votes      4877 non-null   float64\n",
      " 48  females_0age_avg_vote      4877 non-null   float64\n",
      " 49  females_0age_votes         4877 non-null   float64\n",
      " 50  females_18age_avg_vote     4877 non-null   float64\n",
      " 51  females_18age_votes        4877 non-null   float64\n",
      " 52  females_30age_avg_vote     4877 non-null   float64\n",
      " 53  females_30age_votes        4877 non-null   float64\n",
      " 54  females_45age_avg_vote     4877 non-null   float64\n",
      " 55  females_45age_votes        4877 non-null   float64\n",
      " 56  top1000_voters_rating      4877 non-null   float64\n",
      " 57  top1000_voters_votes       4877 non-null   float64\n",
      " 58  us_voters_rating           4877 non-null   float64\n",
      " 59  us_voters_votes            4877 non-null   float64\n",
      " 60  non_us_voters_rating       4877 non-null   float64\n",
      " 61  non_us_voters_votes        4877 non-null   float64\n",
      " 62  year_published             4877 non-null   int64  \n",
      " 63  month_published            4877 non-null   int64  \n",
      " 64  day_published              4877 non-null   int64  \n",
      "dtypes: float64(41), int64(16), object(8)\n",
      "memory usage: 2.5+ MB\n"
     ]
    }
   ],
   "source": [
    "df_merged.info()"
   ]
  },
  {
   "cell_type": "code",
   "execution_count": 20,
   "id": "5facf0b0",
   "metadata": {},
   "outputs": [],
   "source": [
    "#categorical = [var for var in df_merged.columns if df_merged[var].dtype=='O']\n",
    "\n",
    "#print(\"There are {} categorical variables\\n\".format(len(categorical)))\n",
    "\n",
    "#print(\"The categorical variables are : \", categorical)"
   ]
  },
  {
   "cell_type": "code",
   "execution_count": null,
   "id": "d3997a2d",
   "metadata": {},
   "outputs": [],
   "source": []
  },
  {
   "cell_type": "code",
   "execution_count": 21,
   "id": "d1113eaf",
   "metadata": {},
   "outputs": [
    {
     "data": {
      "text/plain": [
       "506      DEM 6000000\n",
       "1048       $ 1500000\n",
       "2454       $ 1500000\n",
       "2795         $ 60000\n",
       "2827       $ 1499000\n",
       "            ...     \n",
       "85266      $ 3000000\n",
       "85274     $ 10000000\n",
       "85397      $ 5000000\n",
       "85460     $ 11100000\n",
       "85740     $ 12000000\n",
       "Name: budget, Length: 4877, dtype: object"
      ]
     },
     "execution_count": 21,
     "metadata": {},
     "output_type": "execute_result"
    }
   ],
   "source": [
    "df_merged[\"budget\"]"
   ]
  },
  {
   "cell_type": "code",
   "execution_count": 22,
   "id": "11d09901",
   "metadata": {},
   "outputs": [],
   "source": [
    "df_merged['New_budget'] = df_merged.budget.str.replace('\\D+', '')\n"
   ]
  },
  {
   "cell_type": "code",
   "execution_count": null,
   "id": "74b800f1",
   "metadata": {},
   "outputs": [],
   "source": []
  },
  {
   "cell_type": "code",
   "execution_count": 23,
   "id": "8b97cf82",
   "metadata": {},
   "outputs": [],
   "source": [
    "df_merged[\"New_budget\"] = [int(i) for i in df_merged[\"New_budget\"]]"
   ]
  },
  {
   "cell_type": "code",
   "execution_count": 24,
   "id": "ce887cc7",
   "metadata": {},
   "outputs": [
    {
     "data": {
      "text/plain": [
       "506       6000000\n",
       "1048      1500000\n",
       "2454      1500000\n",
       "2795        60000\n",
       "2827      1499000\n",
       "           ...   \n",
       "85266     3000000\n",
       "85274    10000000\n",
       "85397     5000000\n",
       "85460    11100000\n",
       "85740    12000000\n",
       "Name: New_budget, Length: 4877, dtype: int64"
      ]
     },
     "execution_count": 24,
     "metadata": {},
     "output_type": "execute_result"
    }
   ],
   "source": [
    "df_merged['New_budget']"
   ]
  },
  {
   "cell_type": "code",
   "execution_count": 25,
   "id": "314362e1",
   "metadata": {},
   "outputs": [],
   "source": [
    "df_merged['New_usa_gross_income'] = df_merged.usa_gross_income.str.replace('\\D+', '')"
   ]
  },
  {
   "cell_type": "code",
   "execution_count": 26,
   "id": "f00b3fde",
   "metadata": {},
   "outputs": [],
   "source": [
    "df_merged[\"New_usa_gross_income\"] = [int(i) for i in df_merged[\"New_usa_gross_income\"]]"
   ]
  },
  {
   "cell_type": "code",
   "execution_count": 27,
   "id": "31534c81",
   "metadata": {},
   "outputs": [],
   "source": [
    "df_merged['New_worlwide_gross_income'] = df_merged.worlwide_gross_income.str.replace('\\D+', '')"
   ]
  },
  {
   "cell_type": "code",
   "execution_count": 28,
   "id": "77b2732c",
   "metadata": {},
   "outputs": [],
   "source": [
    "df_merged[\"New_worlwide_gross_income\"] = [int(i) for i in df_merged[\"New_worlwide_gross_income\"]]"
   ]
  },
  {
   "cell_type": "code",
   "execution_count": null,
   "id": "e4ada5cd",
   "metadata": {},
   "outputs": [],
   "source": []
  },
  {
   "cell_type": "code",
   "execution_count": 29,
   "id": "d5141f06",
   "metadata": {},
   "outputs": [],
   "source": [
    "df_merged.drop(\"budget\", axis=1, inplace=True)"
   ]
  },
  {
   "cell_type": "code",
   "execution_count": 30,
   "id": "aeb88f50",
   "metadata": {},
   "outputs": [],
   "source": [
    "df_merged.drop(\"usa_gross_income\", axis=1, inplace=True)"
   ]
  },
  {
   "cell_type": "code",
   "execution_count": 31,
   "id": "369b00b6",
   "metadata": {},
   "outputs": [],
   "source": [
    "df_merged.drop(\"worlwide_gross_income\", axis=1, inplace=True)"
   ]
  },
  {
   "cell_type": "code",
   "execution_count": 32,
   "id": "ff5bc443",
   "metadata": {},
   "outputs": [
    {
     "name": "stdout",
     "output_type": "stream",
     "text": [
      "<class 'pandas.core.frame.DataFrame'>\n",
      "Int64Index: 4877 entries, 506 to 85740\n",
      "Data columns (total 65 columns):\n",
      " #   Column                     Non-Null Count  Dtype  \n",
      "---  ------                     --------------  -----  \n",
      " 0   genre                      4877 non-null   object \n",
      " 1   duration                   4877 non-null   int64  \n",
      " 2   country                    4877 non-null   object \n",
      " 3   language                   4877 non-null   object \n",
      " 4   director                   4877 non-null   object \n",
      " 5   production_company         4877 non-null   object \n",
      " 6   avg_vote                   4877 non-null   float64\n",
      " 7   votes                      4877 non-null   int64  \n",
      " 8   metascore                  4877 non-null   float64\n",
      " 9   reviews_from_users         4877 non-null   float64\n",
      " 10  reviews_from_critics       4877 non-null   float64\n",
      " 11  weighted_average_vote      4877 non-null   float64\n",
      " 12  total_votes                4877 non-null   int64  \n",
      " 13  mean_vote                  4877 non-null   float64\n",
      " 14  median_vote                4877 non-null   float64\n",
      " 15  votes_10                   4877 non-null   int64  \n",
      " 16  votes_9                    4877 non-null   int64  \n",
      " 17  votes_8                    4877 non-null   int64  \n",
      " 18  votes_7                    4877 non-null   int64  \n",
      " 19  votes_6                    4877 non-null   int64  \n",
      " 20  votes_5                    4877 non-null   int64  \n",
      " 21  votes_4                    4877 non-null   int64  \n",
      " 22  votes_3                    4877 non-null   int64  \n",
      " 23  votes_2                    4877 non-null   int64  \n",
      " 24  votes_1                    4877 non-null   int64  \n",
      " 25  allgenders_0age_avg_vote   4877 non-null   float64\n",
      " 26  allgenders_0age_votes      4877 non-null   float64\n",
      " 27  allgenders_18age_avg_vote  4877 non-null   float64\n",
      " 28  allgenders_18age_votes     4877 non-null   float64\n",
      " 29  allgenders_30age_avg_vote  4877 non-null   float64\n",
      " 30  allgenders_30age_votes     4877 non-null   float64\n",
      " 31  allgenders_45age_avg_vote  4877 non-null   float64\n",
      " 32  allgenders_45age_votes     4877 non-null   float64\n",
      " 33  males_allages_avg_vote     4877 non-null   float64\n",
      " 34  males_allages_votes        4877 non-null   float64\n",
      " 35  males_0age_avg_vote        4877 non-null   float64\n",
      " 36  males_0age_votes           4877 non-null   float64\n",
      " 37  males_18age_avg_vote       4877 non-null   float64\n",
      " 38  males_18age_votes          4877 non-null   float64\n",
      " 39  males_30age_avg_vote       4877 non-null   float64\n",
      " 40  males_30age_votes          4877 non-null   float64\n",
      " 41  males_45age_avg_vote       4877 non-null   float64\n",
      " 42  males_45age_votes          4877 non-null   float64\n",
      " 43  females_allages_avg_vote   4877 non-null   float64\n",
      " 44  females_allages_votes      4877 non-null   float64\n",
      " 45  females_0age_avg_vote      4877 non-null   float64\n",
      " 46  females_0age_votes         4877 non-null   float64\n",
      " 47  females_18age_avg_vote     4877 non-null   float64\n",
      " 48  females_18age_votes        4877 non-null   float64\n",
      " 49  females_30age_avg_vote     4877 non-null   float64\n",
      " 50  females_30age_votes        4877 non-null   float64\n",
      " 51  females_45age_avg_vote     4877 non-null   float64\n",
      " 52  females_45age_votes        4877 non-null   float64\n",
      " 53  top1000_voters_rating      4877 non-null   float64\n",
      " 54  top1000_voters_votes       4877 non-null   float64\n",
      " 55  us_voters_rating           4877 non-null   float64\n",
      " 56  us_voters_votes            4877 non-null   float64\n",
      " 57  non_us_voters_rating       4877 non-null   float64\n",
      " 58  non_us_voters_votes        4877 non-null   float64\n",
      " 59  year_published             4877 non-null   int64  \n",
      " 60  month_published            4877 non-null   int64  \n",
      " 61  day_published              4877 non-null   int64  \n",
      " 62  New_budget                 4877 non-null   int64  \n",
      " 63  New_usa_gross_income       4877 non-null   int64  \n",
      " 64  New_worlwide_gross_income  4877 non-null   int64  \n",
      "dtypes: float64(41), int64(19), object(5)\n",
      "memory usage: 2.5+ MB\n"
     ]
    }
   ],
   "source": [
    "df_merged.info()"
   ]
  },
  {
   "cell_type": "code",
   "execution_count": 33,
   "id": "4138a34d",
   "metadata": {},
   "outputs": [],
   "source": [
    "#for var in categorical:\n",
    "    \n",
    " #   print(var, \"contains\", len(df_merged[var].unique()), \"labels\")"
   ]
  },
  {
   "cell_type": "code",
   "execution_count": 34,
   "id": "13f9d0e8",
   "metadata": {},
   "outputs": [],
   "source": [
    "X = df_merged.drop([\"weighted_average_vote\"], axis=1)\n",
    "y = df_merged[\"weighted_average_vote\"]"
   ]
  },
  {
   "cell_type": "code",
   "execution_count": 35,
   "id": "f2ea2b21",
   "metadata": {},
   "outputs": [],
   "source": [
    "df_merged.drop(\"weighted_average_vote\", axis=1, inplace=True)"
   ]
  },
  {
   "cell_type": "code",
   "execution_count": 36,
   "id": "91487a67",
   "metadata": {},
   "outputs": [],
   "source": [
    "numerical = [var for var in df_merged.columns if df_merged[var].dtype!=\"O\"]"
   ]
  },
  {
   "cell_type": "code",
   "execution_count": 37,
   "id": "3fd4808e",
   "metadata": {},
   "outputs": [
    {
     "name": "stdout",
     "output_type": "stream",
     "text": [
      "duration contains 136 labels\n",
      "avg_vote contains 74 labels\n",
      "votes contains 4829 labels\n",
      "metascore contains 95 labels\n",
      "reviews_from_users contains 1169 labels\n",
      "reviews_from_critics contains 589 labels\n",
      "total_votes contains 4829 labels\n",
      "mean_vote contains 66 labels\n",
      "median_vote contains 11 labels\n",
      "votes_10 contains 4169 labels\n",
      "votes_9 contains 4006 labels\n",
      "votes_8 contains 4460 labels\n",
      "votes_7 contains 4605 labels\n",
      "votes_6 contains 4538 labels\n",
      "votes_5 contains 4234 labels\n",
      "votes_4 contains 3664 labels\n",
      "votes_3 contains 3025 labels\n",
      "votes_2 contains 2448 labels\n",
      "votes_1 contains 2908 labels\n",
      "allgenders_0age_avg_vote contains 84 labels\n",
      "allgenders_0age_votes contains 522 labels\n",
      "allgenders_18age_avg_vote contains 76 labels\n",
      "allgenders_18age_votes contains 4520 labels\n",
      "allgenders_30age_avg_vote contains 77 labels\n",
      "allgenders_30age_votes contains 4745 labels\n",
      "allgenders_45age_avg_vote contains 73 labels\n",
      "allgenders_45age_votes contains 4465 labels\n",
      "males_allages_avg_vote contains 75 labels\n",
      "males_allages_votes contains 4779 labels\n",
      "males_0age_avg_vote contains 84 labels\n",
      "males_0age_votes contains 424 labels\n",
      "males_18age_avg_vote contains 78 labels\n",
      "males_18age_votes contains 4342 labels\n",
      "males_30age_avg_vote contains 77 labels\n",
      "males_30age_votes contains 4710 labels\n",
      "males_45age_avg_vote contains 75 labels\n",
      "males_45age_votes contains 4351 labels\n",
      "females_allages_avg_vote contains 70 labels\n",
      "females_allages_votes contains 4461 labels\n",
      "females_0age_avg_vote contains 78 labels\n",
      "females_0age_votes contains 183 labels\n",
      "females_18age_avg_vote contains 69 labels\n",
      "females_18age_votes contains 3592 labels\n",
      "females_30age_avg_vote contains 69 labels\n",
      "females_30age_votes contains 4117 labels\n",
      "females_45age_avg_vote contains 69 labels\n",
      "females_45age_votes contains 2967 labels\n",
      "top1000_voters_rating contains 70 labels\n",
      "top1000_voters_votes contains 838 labels\n",
      "us_voters_rating contains 78 labels\n",
      "us_voters_votes contains 4571 labels\n",
      "non_us_voters_rating contains 74 labels\n",
      "non_us_voters_votes contains 4769 labels\n",
      "year_published contains 79 labels\n",
      "month_published contains 12 labels\n",
      "day_published contains 31 labels\n",
      "New_budget contains 473 labels\n",
      "New_usa_gross_income contains 4876 labels\n",
      "New_worlwide_gross_income contains 4876 labels\n"
     ]
    }
   ],
   "source": [
    "for var in numerical:\n",
    "    \n",
    "    print(var, \"contains\", len(df_merged[var].unique()), \"labels\")"
   ]
  },
  {
   "cell_type": "code",
   "execution_count": 38,
   "id": "6145d9ee",
   "metadata": {},
   "outputs": [],
   "source": [
    "categorical = [var for var in df_merged.columns if df_merged[var].dtype==\"O\"]"
   ]
  },
  {
   "cell_type": "code",
   "execution_count": 39,
   "id": "b08d9ad7",
   "metadata": {},
   "outputs": [
    {
     "name": "stdout",
     "output_type": "stream",
     "text": [
      "genre contains 338 labels\n",
      "country contains 784 labels\n",
      "language contains 794 labels\n",
      "director contains 2147 labels\n",
      "production_company contains 1611 labels\n"
     ]
    }
   ],
   "source": [
    "for var in categorical:\n",
    "    \n",
    "    print(var, \"contains\", len(df_merged[var].unique()), \"labels\")"
   ]
  },
  {
   "cell_type": "code",
   "execution_count": 40,
   "id": "c2f78fbb",
   "metadata": {},
   "outputs": [],
   "source": [
    "from sklearn.model_selection import train_test_split\n",
    "\n",
    "X_train, X_test, y_train, y_test = train_test_split(X, y, test_size = 0.2, random_state = 0)"
   ]
  },
  {
   "cell_type": "code",
   "execution_count": 41,
   "id": "07836696",
   "metadata": {},
   "outputs": [
    {
     "data": {
      "text/plain": [
       "((3901, 64), (976, 64))"
      ]
     },
     "execution_count": 41,
     "metadata": {},
     "output_type": "execute_result"
    }
   ],
   "source": [
    "X_train.shape, X_test.shape"
   ]
  },
  {
   "cell_type": "code",
   "execution_count": null,
   "id": "3cc7e001",
   "metadata": {},
   "outputs": [],
   "source": []
  },
  {
   "cell_type": "code",
   "execution_count": null,
   "id": "d356e71e",
   "metadata": {},
   "outputs": [],
   "source": []
  },
  {
   "cell_type": "code",
   "execution_count": 42,
   "id": "8565e931",
   "metadata": {},
   "outputs": [],
   "source": [
    "X_train = pd.concat([X_train[numerical],\n",
    "                     pd.get_dummies(X.genre),\n",
    "                     pd.get_dummies(X.country),\n",
    "                     pd.get_dummies(X.language),\n",
    "                     pd.get_dummies(X.director),\n",
    "                     pd.get_dummies(X.production_company),\n",
    "                   \n",
    "                     ], axis=1)"
   ]
  },
  {
   "cell_type": "code",
   "execution_count": 43,
   "id": "ff942aac",
   "metadata": {},
   "outputs": [],
   "source": [
    "X_test = pd.concat([X_test[numerical],\n",
    "                     pd.get_dummies(X.genre),\n",
    "                     pd.get_dummies(X.country),\n",
    "                     pd.get_dummies(X.language),\n",
    "                     pd.get_dummies(X.director),\n",
    "                     pd.get_dummies(X.production_company),\n",
    "                       ], axis=1)"
   ]
  },
  {
   "cell_type": "code",
   "execution_count": 44,
   "id": "26ef09f6",
   "metadata": {},
   "outputs": [],
   "source": [
    "cols = X_train.columns"
   ]
  },
  {
   "cell_type": "code",
   "execution_count": 45,
   "id": "29071ba5",
   "metadata": {},
   "outputs": [
    {
     "data": {
      "text/plain": [
       "((4877, 5733), (4877, 5733))"
      ]
     },
     "execution_count": 45,
     "metadata": {},
     "output_type": "execute_result"
    }
   ],
   "source": [
    "X_train.shape, X_test.shape"
   ]
  },
  {
   "cell_type": "code",
   "execution_count": 46,
   "id": "8e014b35",
   "metadata": {},
   "outputs": [],
   "source": [
    "from sklearn.model_selection import train_test_split\n",
    "\n",
    "X_train, X_test, y_train, y_test = train_test_split(X, y, test_size = 0.2, random_state = 0)"
   ]
  },
  {
   "cell_type": "code",
   "execution_count": 47,
   "id": "6ac03700",
   "metadata": {},
   "outputs": [
    {
     "data": {
      "text/plain": [
       "((3901, 64), (976, 64))"
      ]
     },
     "execution_count": 47,
     "metadata": {},
     "output_type": "execute_result"
    }
   ],
   "source": [
    "X_train.shape, X_test.shape"
   ]
  },
  {
   "cell_type": "code",
   "execution_count": 48,
   "id": "95fbfd7a",
   "metadata": {},
   "outputs": [
    {
     "ename": "ValueError",
     "evalue": "could not convert string to float: 'Horror, Mystery, Thriller'",
     "output_type": "error",
     "traceback": [
      "\u001b[0;31m---------------------------------------------------------------------------\u001b[0m",
      "\u001b[0;31mValueError\u001b[0m                                Traceback (most recent call last)",
      "\u001b[0;32m/var/folders/k2/95svp8cj63s8x9kvhvh79g340000gn/T/ipykernel_16408/786638559.py\u001b[0m in \u001b[0;36m<module>\u001b[0;34m\u001b[0m\n\u001b[1;32m      3\u001b[0m \u001b[0msc\u001b[0m \u001b[0;34m=\u001b[0m \u001b[0mStandardScaler\u001b[0m\u001b[0;34m(\u001b[0m\u001b[0;34m)\u001b[0m\u001b[0;34m\u001b[0m\u001b[0;34m\u001b[0m\u001b[0m\n\u001b[1;32m      4\u001b[0m \u001b[0;34m\u001b[0m\u001b[0m\n\u001b[0;32m----> 5\u001b[0;31m \u001b[0mX_train\u001b[0m \u001b[0;34m=\u001b[0m \u001b[0msc\u001b[0m\u001b[0;34m.\u001b[0m\u001b[0mfit_transform\u001b[0m\u001b[0;34m(\u001b[0m\u001b[0mX_train\u001b[0m\u001b[0;34m)\u001b[0m\u001b[0;34m\u001b[0m\u001b[0;34m\u001b[0m\u001b[0m\n\u001b[0m\u001b[1;32m      6\u001b[0m \u001b[0;34m\u001b[0m\u001b[0m\n\u001b[1;32m      7\u001b[0m \u001b[0mX_test\u001b[0m \u001b[0;34m=\u001b[0m \u001b[0msc\u001b[0m\u001b[0;34m.\u001b[0m\u001b[0mfit_transform\u001b[0m\u001b[0;34m(\u001b[0m\u001b[0mX_test\u001b[0m\u001b[0;34m)\u001b[0m\u001b[0;34m\u001b[0m\u001b[0;34m\u001b[0m\u001b[0m\n",
      "\u001b[0;32m~/anaconda3/lib/python3.8/site-packages/sklearn/base.py\u001b[0m in \u001b[0;36mfit_transform\u001b[0;34m(self, X, y, **fit_params)\u001b[0m\n\u001b[1;32m    845\u001b[0m         \u001b[0;32mif\u001b[0m \u001b[0my\u001b[0m \u001b[0;32mis\u001b[0m \u001b[0;32mNone\u001b[0m\u001b[0;34m:\u001b[0m\u001b[0;34m\u001b[0m\u001b[0;34m\u001b[0m\u001b[0m\n\u001b[1;32m    846\u001b[0m             \u001b[0;31m# fit method of arity 1 (unsupervised transformation)\u001b[0m\u001b[0;34m\u001b[0m\u001b[0;34m\u001b[0m\u001b[0;34m\u001b[0m\u001b[0m\n\u001b[0;32m--> 847\u001b[0;31m             \u001b[0;32mreturn\u001b[0m \u001b[0mself\u001b[0m\u001b[0;34m.\u001b[0m\u001b[0mfit\u001b[0m\u001b[0;34m(\u001b[0m\u001b[0mX\u001b[0m\u001b[0;34m,\u001b[0m \u001b[0;34m**\u001b[0m\u001b[0mfit_params\u001b[0m\u001b[0;34m)\u001b[0m\u001b[0;34m.\u001b[0m\u001b[0mtransform\u001b[0m\u001b[0;34m(\u001b[0m\u001b[0mX\u001b[0m\u001b[0;34m)\u001b[0m\u001b[0;34m\u001b[0m\u001b[0;34m\u001b[0m\u001b[0m\n\u001b[0m\u001b[1;32m    848\u001b[0m         \u001b[0;32melse\u001b[0m\u001b[0;34m:\u001b[0m\u001b[0;34m\u001b[0m\u001b[0;34m\u001b[0m\u001b[0m\n\u001b[1;32m    849\u001b[0m             \u001b[0;31m# fit method of arity 2 (supervised transformation)\u001b[0m\u001b[0;34m\u001b[0m\u001b[0;34m\u001b[0m\u001b[0;34m\u001b[0m\u001b[0m\n",
      "\u001b[0;32m~/anaconda3/lib/python3.8/site-packages/sklearn/preprocessing/_data.py\u001b[0m in \u001b[0;36mfit\u001b[0;34m(self, X, y, sample_weight)\u001b[0m\n\u001b[1;32m    804\u001b[0m         \u001b[0;31m# Reset internal state before fitting\u001b[0m\u001b[0;34m\u001b[0m\u001b[0;34m\u001b[0m\u001b[0;34m\u001b[0m\u001b[0m\n\u001b[1;32m    805\u001b[0m         \u001b[0mself\u001b[0m\u001b[0;34m.\u001b[0m\u001b[0m_reset\u001b[0m\u001b[0;34m(\u001b[0m\u001b[0;34m)\u001b[0m\u001b[0;34m\u001b[0m\u001b[0;34m\u001b[0m\u001b[0m\n\u001b[0;32m--> 806\u001b[0;31m         \u001b[0;32mreturn\u001b[0m \u001b[0mself\u001b[0m\u001b[0;34m.\u001b[0m\u001b[0mpartial_fit\u001b[0m\u001b[0;34m(\u001b[0m\u001b[0mX\u001b[0m\u001b[0;34m,\u001b[0m \u001b[0my\u001b[0m\u001b[0;34m,\u001b[0m \u001b[0msample_weight\u001b[0m\u001b[0;34m)\u001b[0m\u001b[0;34m\u001b[0m\u001b[0;34m\u001b[0m\u001b[0m\n\u001b[0m\u001b[1;32m    807\u001b[0m \u001b[0;34m\u001b[0m\u001b[0m\n\u001b[1;32m    808\u001b[0m     \u001b[0;32mdef\u001b[0m \u001b[0mpartial_fit\u001b[0m\u001b[0;34m(\u001b[0m\u001b[0mself\u001b[0m\u001b[0;34m,\u001b[0m \u001b[0mX\u001b[0m\u001b[0;34m,\u001b[0m \u001b[0my\u001b[0m\u001b[0;34m=\u001b[0m\u001b[0;32mNone\u001b[0m\u001b[0;34m,\u001b[0m \u001b[0msample_weight\u001b[0m\u001b[0;34m=\u001b[0m\u001b[0;32mNone\u001b[0m\u001b[0;34m)\u001b[0m\u001b[0;34m:\u001b[0m\u001b[0;34m\u001b[0m\u001b[0;34m\u001b[0m\u001b[0m\n",
      "\u001b[0;32m~/anaconda3/lib/python3.8/site-packages/sklearn/preprocessing/_data.py\u001b[0m in \u001b[0;36mpartial_fit\u001b[0;34m(self, X, y, sample_weight)\u001b[0m\n\u001b[1;32m    839\u001b[0m         \"\"\"\n\u001b[1;32m    840\u001b[0m         \u001b[0mfirst_call\u001b[0m \u001b[0;34m=\u001b[0m \u001b[0;32mnot\u001b[0m \u001b[0mhasattr\u001b[0m\u001b[0;34m(\u001b[0m\u001b[0mself\u001b[0m\u001b[0;34m,\u001b[0m \u001b[0;34m\"n_samples_seen_\"\u001b[0m\u001b[0;34m)\u001b[0m\u001b[0;34m\u001b[0m\u001b[0;34m\u001b[0m\u001b[0m\n\u001b[0;32m--> 841\u001b[0;31m         X = self._validate_data(\n\u001b[0m\u001b[1;32m    842\u001b[0m             \u001b[0mX\u001b[0m\u001b[0;34m,\u001b[0m\u001b[0;34m\u001b[0m\u001b[0;34m\u001b[0m\u001b[0m\n\u001b[1;32m    843\u001b[0m             \u001b[0maccept_sparse\u001b[0m\u001b[0;34m=\u001b[0m\u001b[0;34m(\u001b[0m\u001b[0;34m\"csr\"\u001b[0m\u001b[0;34m,\u001b[0m \u001b[0;34m\"csc\"\u001b[0m\u001b[0;34m)\u001b[0m\u001b[0;34m,\u001b[0m\u001b[0;34m\u001b[0m\u001b[0;34m\u001b[0m\u001b[0m\n",
      "\u001b[0;32m~/anaconda3/lib/python3.8/site-packages/sklearn/base.py\u001b[0m in \u001b[0;36m_validate_data\u001b[0;34m(self, X, y, reset, validate_separately, **check_params)\u001b[0m\n\u001b[1;32m    559\u001b[0m             \u001b[0;32mraise\u001b[0m \u001b[0mValueError\u001b[0m\u001b[0;34m(\u001b[0m\u001b[0;34m\"Validation should be done on X, y or both.\"\u001b[0m\u001b[0;34m)\u001b[0m\u001b[0;34m\u001b[0m\u001b[0;34m\u001b[0m\u001b[0m\n\u001b[1;32m    560\u001b[0m         \u001b[0;32melif\u001b[0m \u001b[0;32mnot\u001b[0m \u001b[0mno_val_X\u001b[0m \u001b[0;32mand\u001b[0m \u001b[0mno_val_y\u001b[0m\u001b[0;34m:\u001b[0m\u001b[0;34m\u001b[0m\u001b[0;34m\u001b[0m\u001b[0m\n\u001b[0;32m--> 561\u001b[0;31m             \u001b[0mX\u001b[0m \u001b[0;34m=\u001b[0m \u001b[0mcheck_array\u001b[0m\u001b[0;34m(\u001b[0m\u001b[0mX\u001b[0m\u001b[0;34m,\u001b[0m \u001b[0;34m**\u001b[0m\u001b[0mcheck_params\u001b[0m\u001b[0;34m)\u001b[0m\u001b[0;34m\u001b[0m\u001b[0;34m\u001b[0m\u001b[0m\n\u001b[0m\u001b[1;32m    562\u001b[0m             \u001b[0mout\u001b[0m \u001b[0;34m=\u001b[0m \u001b[0mX\u001b[0m\u001b[0;34m\u001b[0m\u001b[0;34m\u001b[0m\u001b[0m\n\u001b[1;32m    563\u001b[0m         \u001b[0;32melif\u001b[0m \u001b[0mno_val_X\u001b[0m \u001b[0;32mand\u001b[0m \u001b[0;32mnot\u001b[0m \u001b[0mno_val_y\u001b[0m\u001b[0;34m:\u001b[0m\u001b[0;34m\u001b[0m\u001b[0;34m\u001b[0m\u001b[0m\n",
      "\u001b[0;32m~/anaconda3/lib/python3.8/site-packages/sklearn/utils/validation.py\u001b[0m in \u001b[0;36mcheck_array\u001b[0;34m(array, accept_sparse, accept_large_sparse, dtype, order, copy, force_all_finite, ensure_2d, allow_nd, ensure_min_samples, ensure_min_features, estimator)\u001b[0m\n\u001b[1;32m    736\u001b[0m                     \u001b[0marray\u001b[0m \u001b[0;34m=\u001b[0m \u001b[0marray\u001b[0m\u001b[0;34m.\u001b[0m\u001b[0mastype\u001b[0m\u001b[0;34m(\u001b[0m\u001b[0mdtype\u001b[0m\u001b[0;34m,\u001b[0m \u001b[0mcasting\u001b[0m\u001b[0;34m=\u001b[0m\u001b[0;34m\"unsafe\"\u001b[0m\u001b[0;34m,\u001b[0m \u001b[0mcopy\u001b[0m\u001b[0;34m=\u001b[0m\u001b[0;32mFalse\u001b[0m\u001b[0;34m)\u001b[0m\u001b[0;34m\u001b[0m\u001b[0;34m\u001b[0m\u001b[0m\n\u001b[1;32m    737\u001b[0m                 \u001b[0;32melse\u001b[0m\u001b[0;34m:\u001b[0m\u001b[0;34m\u001b[0m\u001b[0;34m\u001b[0m\u001b[0m\n\u001b[0;32m--> 738\u001b[0;31m                     \u001b[0marray\u001b[0m \u001b[0;34m=\u001b[0m \u001b[0mnp\u001b[0m\u001b[0;34m.\u001b[0m\u001b[0masarray\u001b[0m\u001b[0;34m(\u001b[0m\u001b[0marray\u001b[0m\u001b[0;34m,\u001b[0m \u001b[0morder\u001b[0m\u001b[0;34m=\u001b[0m\u001b[0morder\u001b[0m\u001b[0;34m,\u001b[0m \u001b[0mdtype\u001b[0m\u001b[0;34m=\u001b[0m\u001b[0mdtype\u001b[0m\u001b[0;34m)\u001b[0m\u001b[0;34m\u001b[0m\u001b[0;34m\u001b[0m\u001b[0m\n\u001b[0m\u001b[1;32m    739\u001b[0m             \u001b[0;32mexcept\u001b[0m \u001b[0mComplexWarning\u001b[0m \u001b[0;32mas\u001b[0m \u001b[0mcomplex_warning\u001b[0m\u001b[0;34m:\u001b[0m\u001b[0;34m\u001b[0m\u001b[0;34m\u001b[0m\u001b[0m\n\u001b[1;32m    740\u001b[0m                 raise ValueError(\n",
      "\u001b[0;32m~/anaconda3/lib/python3.8/site-packages/numpy/core/_asarray.py\u001b[0m in \u001b[0;36masarray\u001b[0;34m(a, dtype, order, like)\u001b[0m\n\u001b[1;32m    100\u001b[0m         \u001b[0;32mreturn\u001b[0m \u001b[0m_asarray_with_like\u001b[0m\u001b[0;34m(\u001b[0m\u001b[0ma\u001b[0m\u001b[0;34m,\u001b[0m \u001b[0mdtype\u001b[0m\u001b[0;34m=\u001b[0m\u001b[0mdtype\u001b[0m\u001b[0;34m,\u001b[0m \u001b[0morder\u001b[0m\u001b[0;34m=\u001b[0m\u001b[0morder\u001b[0m\u001b[0;34m,\u001b[0m \u001b[0mlike\u001b[0m\u001b[0;34m=\u001b[0m\u001b[0mlike\u001b[0m\u001b[0;34m)\u001b[0m\u001b[0;34m\u001b[0m\u001b[0;34m\u001b[0m\u001b[0m\n\u001b[1;32m    101\u001b[0m \u001b[0;34m\u001b[0m\u001b[0m\n\u001b[0;32m--> 102\u001b[0;31m     \u001b[0;32mreturn\u001b[0m \u001b[0marray\u001b[0m\u001b[0;34m(\u001b[0m\u001b[0ma\u001b[0m\u001b[0;34m,\u001b[0m \u001b[0mdtype\u001b[0m\u001b[0;34m,\u001b[0m \u001b[0mcopy\u001b[0m\u001b[0;34m=\u001b[0m\u001b[0;32mFalse\u001b[0m\u001b[0;34m,\u001b[0m \u001b[0morder\u001b[0m\u001b[0;34m=\u001b[0m\u001b[0morder\u001b[0m\u001b[0;34m)\u001b[0m\u001b[0;34m\u001b[0m\u001b[0;34m\u001b[0m\u001b[0m\n\u001b[0m\u001b[1;32m    103\u001b[0m \u001b[0;34m\u001b[0m\u001b[0m\n\u001b[1;32m    104\u001b[0m \u001b[0;34m\u001b[0m\u001b[0m\n",
      "\u001b[0;32m~/anaconda3/lib/python3.8/site-packages/pandas/core/generic.py\u001b[0m in \u001b[0;36m__array__\u001b[0;34m(self, dtype)\u001b[0m\n\u001b[1;32m   1991\u001b[0m \u001b[0;34m\u001b[0m\u001b[0m\n\u001b[1;32m   1992\u001b[0m     \u001b[0;32mdef\u001b[0m \u001b[0m__array__\u001b[0m\u001b[0;34m(\u001b[0m\u001b[0mself\u001b[0m\u001b[0;34m,\u001b[0m \u001b[0mdtype\u001b[0m\u001b[0;34m:\u001b[0m \u001b[0mNpDtype\u001b[0m \u001b[0;34m|\u001b[0m \u001b[0;32mNone\u001b[0m \u001b[0;34m=\u001b[0m \u001b[0;32mNone\u001b[0m\u001b[0;34m)\u001b[0m \u001b[0;34m->\u001b[0m \u001b[0mnp\u001b[0m\u001b[0;34m.\u001b[0m\u001b[0mndarray\u001b[0m\u001b[0;34m:\u001b[0m\u001b[0;34m\u001b[0m\u001b[0;34m\u001b[0m\u001b[0m\n\u001b[0;32m-> 1993\u001b[0;31m         \u001b[0;32mreturn\u001b[0m \u001b[0mnp\u001b[0m\u001b[0;34m.\u001b[0m\u001b[0masarray\u001b[0m\u001b[0;34m(\u001b[0m\u001b[0mself\u001b[0m\u001b[0;34m.\u001b[0m\u001b[0m_values\u001b[0m\u001b[0;34m,\u001b[0m \u001b[0mdtype\u001b[0m\u001b[0;34m=\u001b[0m\u001b[0mdtype\u001b[0m\u001b[0;34m)\u001b[0m\u001b[0;34m\u001b[0m\u001b[0;34m\u001b[0m\u001b[0m\n\u001b[0m\u001b[1;32m   1994\u001b[0m \u001b[0;34m\u001b[0m\u001b[0m\n\u001b[1;32m   1995\u001b[0m     def __array_wrap__(\n",
      "\u001b[0;32m~/anaconda3/lib/python3.8/site-packages/numpy/core/_asarray.py\u001b[0m in \u001b[0;36masarray\u001b[0;34m(a, dtype, order, like)\u001b[0m\n\u001b[1;32m    100\u001b[0m         \u001b[0;32mreturn\u001b[0m \u001b[0m_asarray_with_like\u001b[0m\u001b[0;34m(\u001b[0m\u001b[0ma\u001b[0m\u001b[0;34m,\u001b[0m \u001b[0mdtype\u001b[0m\u001b[0;34m=\u001b[0m\u001b[0mdtype\u001b[0m\u001b[0;34m,\u001b[0m \u001b[0morder\u001b[0m\u001b[0;34m=\u001b[0m\u001b[0morder\u001b[0m\u001b[0;34m,\u001b[0m \u001b[0mlike\u001b[0m\u001b[0;34m=\u001b[0m\u001b[0mlike\u001b[0m\u001b[0;34m)\u001b[0m\u001b[0;34m\u001b[0m\u001b[0;34m\u001b[0m\u001b[0m\n\u001b[1;32m    101\u001b[0m \u001b[0;34m\u001b[0m\u001b[0m\n\u001b[0;32m--> 102\u001b[0;31m     \u001b[0;32mreturn\u001b[0m \u001b[0marray\u001b[0m\u001b[0;34m(\u001b[0m\u001b[0ma\u001b[0m\u001b[0;34m,\u001b[0m \u001b[0mdtype\u001b[0m\u001b[0;34m,\u001b[0m \u001b[0mcopy\u001b[0m\u001b[0;34m=\u001b[0m\u001b[0;32mFalse\u001b[0m\u001b[0;34m,\u001b[0m \u001b[0morder\u001b[0m\u001b[0;34m=\u001b[0m\u001b[0morder\u001b[0m\u001b[0;34m)\u001b[0m\u001b[0;34m\u001b[0m\u001b[0;34m\u001b[0m\u001b[0m\n\u001b[0m\u001b[1;32m    103\u001b[0m \u001b[0;34m\u001b[0m\u001b[0m\n\u001b[1;32m    104\u001b[0m \u001b[0;34m\u001b[0m\u001b[0m\n",
      "\u001b[0;31mValueError\u001b[0m: could not convert string to float: 'Horror, Mystery, Thriller'"
     ]
    }
   ],
   "source": [
    "from sklearn.preprocessing import MinMaxScaler\n",
    "\n",
    "sc = StandardScaler()\n",
    "\n",
    "X_train = sc.fit_transform(X_train)\n",
    "\n",
    "X_test = sc.fit_transform(X_test)"
   ]
  },
  {
   "cell_type": "code",
   "execution_count": null,
   "id": "ffd79875",
   "metadata": {},
   "outputs": [],
   "source": [
    "X_train = pd.DataFrame(X_train, columns=[cols])"
   ]
  },
  {
   "cell_type": "code",
   "execution_count": null,
   "id": "c9f30f54",
   "metadata": {},
   "outputs": [],
   "source": [
    "X_test = pd.DataFrame(X_test, columns=[cols])"
   ]
  },
  {
   "cell_type": "code",
   "execution_count": null,
   "id": "76435f1a",
   "metadata": {},
   "outputs": [],
   "source": [
    "X_train.describe()"
   ]
  },
  {
   "cell_type": "code",
   "execution_count": null,
   "id": "ebf8e89b",
   "metadata": {},
   "outputs": [],
   "source": [
    "np.where(np.isnan(X_train)),np.where(np.isnan(X_test))"
   ]
  },
  {
   "cell_type": "code",
   "execution_count": null,
   "id": "e3472994",
   "metadata": {},
   "outputs": [],
   "source": [
    "X_train.shape, X_test.shape"
   ]
  },
  {
   "cell_type": "code",
   "execution_count": null,
   "id": "26a21fd0",
   "metadata": {},
   "outputs": [],
   "source": [
    "#X_test = X_test.fillna(X_test.mean())\n",
    "#X_train = X_train.fillna(X_train.mean())"
   ]
  },
  {
   "cell_type": "code",
   "execution_count": null,
   "id": "dc8fb3f2",
   "metadata": {},
   "outputs": [],
   "source": [
    "np.where(np.isnan(X_train)),np.where(np.isnan(X_test))"
   ]
  },
  {
   "cell_type": "code",
   "execution_count": null,
   "id": "db0f42b7",
   "metadata": {},
   "outputs": [],
   "source": []
  },
  {
   "cell_type": "code",
   "execution_count": null,
   "id": "9259e025",
   "metadata": {},
   "outputs": [],
   "source": [
    "X_train.shape, X_test.shape"
   ]
  },
  {
   "cell_type": "code",
   "execution_count": null,
   "id": "1d359026",
   "metadata": {},
   "outputs": [],
   "source": [
    "from sklearn.linear_model import LogisticRegression\n",
    "\n",
    "logReg = LogisticRegression(solver=\"liblinear\", random_state=0)\n",
    "\n",
    "logReg.fit(X_train, y_train)"
   ]
  },
  {
   "cell_type": "code",
   "execution_count": null,
   "id": "5994835d",
   "metadata": {},
   "outputs": [],
   "source": []
  }
 ],
 "metadata": {
  "kernelspec": {
   "display_name": "Python 3 (ipykernel)",
   "language": "python",
   "name": "python3"
  },
  "language_info": {
   "codemirror_mode": {
    "name": "ipython",
    "version": 3
   },
   "file_extension": ".py",
   "mimetype": "text/x-python",
   "name": "python",
   "nbconvert_exporter": "python",
   "pygments_lexer": "ipython3",
   "version": "3.8.2"
  }
 },
 "nbformat": 4,
 "nbformat_minor": 5
}
