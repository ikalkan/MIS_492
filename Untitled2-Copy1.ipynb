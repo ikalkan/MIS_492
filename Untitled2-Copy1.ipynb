{
 "cells": [
  {
   "cell_type": "code",
   "execution_count": 1,
   "id": "170cc0e4",
   "metadata": {},
   "outputs": [],
   "source": [
    "import numpy as np\n",
    "import pandas as pd\n",
    "import matplotlib.pyplot as plt\n",
    "import seaborn as sns\n",
    "%matplotlib inline\n",
    "import warnings\n",
    "warnings.filterwarnings('ignore')\n",
    "from sklearn.ensemble import RandomForestClassifier\n",
    "from sklearn.svm import SVC\n",
    "from sklearn.linear_model import SGDClassifier\n",
    "from sklearn.metrics import confusion_matrix, classification_report\n",
    "from sklearn.preprocessing import StandardScaler, LabelEncoder\n",
    "from sklearn.model_selection import train_test_split, GridSearchCV, cross_val_score\n",
    "from time import time\n",
    "import numpy as np\n",
    "import pandas as pd\n",
    "import xgboost\n",
    "import math\n",
    "import seaborn as sns\n",
    "import matplotlib\n",
    "import matplotlib.pyplot as plt\n",
    "from __future__ import division\n",
    "from scipy.stats import pearsonr\n",
    "from sklearn.linear_model import LinearRegression\n",
    "#from sklearn import cross_validation, tree, linear_model\n",
    "from sklearn.model_selection import train_test_split\n",
    "#from sklearn.cross_validation import ShuffleSplit\n",
    "from sklearn.metrics import explained_variance_score\n",
    "#import sklearn.learning_curve as curves\n",
    "from time import time\n",
    "from sklearn.metrics import r2_score\n",
    "import os\n",
    "#print(os.listdir(\"../input\"))"
   ]
  },
  {
   "cell_type": "code",
   "execution_count": 2,
   "id": "c60c27bd",
   "metadata": {},
   "outputs": [],
   "source": [
    "data_movies = '/Users/ibrahim/Downloads/archive/IMDB movies.csv'"
   ]
  },
  {
   "cell_type": "code",
   "execution_count": 3,
   "id": "4bd69b01",
   "metadata": {},
   "outputs": [],
   "source": [
    "data_names = '/Users/ibrahim/Downloads/archive/IMDB names.csv'"
   ]
  },
  {
   "cell_type": "code",
   "execution_count": 4,
   "id": "649d8a4c",
   "metadata": {},
   "outputs": [],
   "source": [
    "data_ratings = '/Users/ibrahim/Downloads/archive/IMDB ratings.csv'"
   ]
  },
  {
   "cell_type": "code",
   "execution_count": 5,
   "id": "d84cc7d4",
   "metadata": {},
   "outputs": [],
   "source": [
    "data_title_principals = '/Users/ibrahim/Downloads/archive/IMDB title_principals.csv'"
   ]
  },
  {
   "cell_type": "code",
   "execution_count": 6,
   "id": "f9b613a6",
   "metadata": {},
   "outputs": [],
   "source": [
    "df1 = pd.read_csv(data_movies)"
   ]
  },
  {
   "cell_type": "code",
   "execution_count": 7,
   "id": "2c1e8515",
   "metadata": {},
   "outputs": [],
   "source": [
    "df2 = pd.read_csv(data_names)"
   ]
  },
  {
   "cell_type": "code",
   "execution_count": 8,
   "id": "a8ecb587",
   "metadata": {},
   "outputs": [],
   "source": [
    "df3 = pd.read_csv(data_ratings)"
   ]
  },
  {
   "cell_type": "code",
   "execution_count": 9,
   "id": "8da63be9",
   "metadata": {},
   "outputs": [],
   "source": [
    "df4 = pd.read_csv(data_title_principals)"
   ]
  },
  {
   "cell_type": "code",
   "execution_count": 10,
   "id": "e8720e0c",
   "metadata": {},
   "outputs": [
    {
     "data": {
      "text/html": [
       "<div>\n",
       "<style scoped>\n",
       "    .dataframe tbody tr th:only-of-type {\n",
       "        vertical-align: middle;\n",
       "    }\n",
       "\n",
       "    .dataframe tbody tr th {\n",
       "        vertical-align: top;\n",
       "    }\n",
       "\n",
       "    .dataframe thead th {\n",
       "        text-align: right;\n",
       "    }\n",
       "</style>\n",
       "<table border=\"1\" class=\"dataframe\">\n",
       "  <thead>\n",
       "    <tr style=\"text-align: right;\">\n",
       "      <th></th>\n",
       "      <th>imdb_title_id</th>\n",
       "      <th>title</th>\n",
       "      <th>original_title</th>\n",
       "      <th>year</th>\n",
       "      <th>date_published</th>\n",
       "      <th>genre</th>\n",
       "      <th>duration</th>\n",
       "      <th>country</th>\n",
       "      <th>language</th>\n",
       "      <th>director</th>\n",
       "      <th>...</th>\n",
       "      <th>females_30age_avg_vote</th>\n",
       "      <th>females_30age_votes</th>\n",
       "      <th>females_45age_avg_vote</th>\n",
       "      <th>females_45age_votes</th>\n",
       "      <th>top1000_voters_rating</th>\n",
       "      <th>top1000_voters_votes</th>\n",
       "      <th>us_voters_rating</th>\n",
       "      <th>us_voters_votes</th>\n",
       "      <th>non_us_voters_rating</th>\n",
       "      <th>non_us_voters_votes</th>\n",
       "    </tr>\n",
       "  </thead>\n",
       "  <tbody>\n",
       "    <tr>\n",
       "      <th>0</th>\n",
       "      <td>tt0000009</td>\n",
       "      <td>Miss Jerry</td>\n",
       "      <td>Miss Jerry</td>\n",
       "      <td>1894</td>\n",
       "      <td>1894-10-09</td>\n",
       "      <td>Romance</td>\n",
       "      <td>45</td>\n",
       "      <td>USA</td>\n",
       "      <td>None</td>\n",
       "      <td>Alexander Black</td>\n",
       "      <td>...</td>\n",
       "      <td>5.7</td>\n",
       "      <td>13.0</td>\n",
       "      <td>4.5</td>\n",
       "      <td>4.0</td>\n",
       "      <td>5.7</td>\n",
       "      <td>34.0</td>\n",
       "      <td>6.4</td>\n",
       "      <td>51.0</td>\n",
       "      <td>6.0</td>\n",
       "      <td>70.0</td>\n",
       "    </tr>\n",
       "    <tr>\n",
       "      <th>1</th>\n",
       "      <td>tt0000574</td>\n",
       "      <td>The Story of the Kelly Gang</td>\n",
       "      <td>The Story of the Kelly Gang</td>\n",
       "      <td>1906</td>\n",
       "      <td>1906-12-26</td>\n",
       "      <td>Biography, Crime, Drama</td>\n",
       "      <td>70</td>\n",
       "      <td>Australia</td>\n",
       "      <td>None</td>\n",
       "      <td>Charles Tait</td>\n",
       "      <td>...</td>\n",
       "      <td>6.2</td>\n",
       "      <td>23.0</td>\n",
       "      <td>6.6</td>\n",
       "      <td>14.0</td>\n",
       "      <td>6.4</td>\n",
       "      <td>66.0</td>\n",
       "      <td>6.0</td>\n",
       "      <td>96.0</td>\n",
       "      <td>6.2</td>\n",
       "      <td>331.0</td>\n",
       "    </tr>\n",
       "    <tr>\n",
       "      <th>2</th>\n",
       "      <td>tt0001892</td>\n",
       "      <td>Den sorte drøm</td>\n",
       "      <td>Den sorte drøm</td>\n",
       "      <td>1911</td>\n",
       "      <td>1911-08-19</td>\n",
       "      <td>Drama</td>\n",
       "      <td>53</td>\n",
       "      <td>Germany, Denmark</td>\n",
       "      <td>NaN</td>\n",
       "      <td>Urban Gad</td>\n",
       "      <td>...</td>\n",
       "      <td>5.8</td>\n",
       "      <td>4.0</td>\n",
       "      <td>6.8</td>\n",
       "      <td>7.0</td>\n",
       "      <td>5.4</td>\n",
       "      <td>32.0</td>\n",
       "      <td>6.2</td>\n",
       "      <td>31.0</td>\n",
       "      <td>5.9</td>\n",
       "      <td>123.0</td>\n",
       "    </tr>\n",
       "    <tr>\n",
       "      <th>3</th>\n",
       "      <td>tt0002101</td>\n",
       "      <td>Cleopatra</td>\n",
       "      <td>Cleopatra</td>\n",
       "      <td>1912</td>\n",
       "      <td>1912-11-13</td>\n",
       "      <td>Drama, History</td>\n",
       "      <td>100</td>\n",
       "      <td>USA</td>\n",
       "      <td>English</td>\n",
       "      <td>Charles L. Gaskill</td>\n",
       "      <td>...</td>\n",
       "      <td>5.5</td>\n",
       "      <td>14.0</td>\n",
       "      <td>6.1</td>\n",
       "      <td>21.0</td>\n",
       "      <td>4.9</td>\n",
       "      <td>57.0</td>\n",
       "      <td>5.5</td>\n",
       "      <td>207.0</td>\n",
       "      <td>4.7</td>\n",
       "      <td>105.0</td>\n",
       "    </tr>\n",
       "    <tr>\n",
       "      <th>4</th>\n",
       "      <td>tt0002130</td>\n",
       "      <td>L'Inferno</td>\n",
       "      <td>L'Inferno</td>\n",
       "      <td>1911</td>\n",
       "      <td>1911-03-06</td>\n",
       "      <td>Adventure, Drama, Fantasy</td>\n",
       "      <td>68</td>\n",
       "      <td>Italy</td>\n",
       "      <td>Italian</td>\n",
       "      <td>Francesco Bertolini, Adolfo Padovan</td>\n",
       "      <td>...</td>\n",
       "      <td>7.3</td>\n",
       "      <td>82.0</td>\n",
       "      <td>7.4</td>\n",
       "      <td>77.0</td>\n",
       "      <td>6.9</td>\n",
       "      <td>139.0</td>\n",
       "      <td>7.0</td>\n",
       "      <td>488.0</td>\n",
       "      <td>7.0</td>\n",
       "      <td>1166.0</td>\n",
       "    </tr>\n",
       "    <tr>\n",
       "      <th>...</th>\n",
       "      <td>...</td>\n",
       "      <td>...</td>\n",
       "      <td>...</td>\n",
       "      <td>...</td>\n",
       "      <td>...</td>\n",
       "      <td>...</td>\n",
       "      <td>...</td>\n",
       "      <td>...</td>\n",
       "      <td>...</td>\n",
       "      <td>...</td>\n",
       "      <td>...</td>\n",
       "      <td>...</td>\n",
       "      <td>...</td>\n",
       "      <td>...</td>\n",
       "      <td>...</td>\n",
       "      <td>...</td>\n",
       "      <td>...</td>\n",
       "      <td>...</td>\n",
       "      <td>...</td>\n",
       "      <td>...</td>\n",
       "      <td>...</td>\n",
       "    </tr>\n",
       "    <tr>\n",
       "      <th>85850</th>\n",
       "      <td>tt9908390</td>\n",
       "      <td>Le lion</td>\n",
       "      <td>Le lion</td>\n",
       "      <td>2020</td>\n",
       "      <td>2020-01-29</td>\n",
       "      <td>Comedy</td>\n",
       "      <td>95</td>\n",
       "      <td>France, Belgium</td>\n",
       "      <td>French</td>\n",
       "      <td>Ludovic Colbeau-Justin</td>\n",
       "      <td>...</td>\n",
       "      <td>5.7</td>\n",
       "      <td>11.0</td>\n",
       "      <td>5.0</td>\n",
       "      <td>2.0</td>\n",
       "      <td>5.5</td>\n",
       "      <td>12.0</td>\n",
       "      <td>6.3</td>\n",
       "      <td>22.0</td>\n",
       "      <td>5.3</td>\n",
       "      <td>214.0</td>\n",
       "    </tr>\n",
       "    <tr>\n",
       "      <th>85851</th>\n",
       "      <td>tt9911196</td>\n",
       "      <td>De Beentjes van Sint-Hildegard</td>\n",
       "      <td>De Beentjes van Sint-Hildegard</td>\n",
       "      <td>2020</td>\n",
       "      <td>2020-02-13</td>\n",
       "      <td>Comedy, Drama</td>\n",
       "      <td>103</td>\n",
       "      <td>Netherlands</td>\n",
       "      <td>German, Dutch</td>\n",
       "      <td>Johan Nijenhuis</td>\n",
       "      <td>...</td>\n",
       "      <td>8.0</td>\n",
       "      <td>47.0</td>\n",
       "      <td>7.3</td>\n",
       "      <td>30.0</td>\n",
       "      <td>7.0</td>\n",
       "      <td>6.0</td>\n",
       "      <td>6.8</td>\n",
       "      <td>13.0</td>\n",
       "      <td>7.7</td>\n",
       "      <td>388.0</td>\n",
       "    </tr>\n",
       "    <tr>\n",
       "      <th>85852</th>\n",
       "      <td>tt9911774</td>\n",
       "      <td>Padmavyuhathile Abhimanyu</td>\n",
       "      <td>Padmavyuhathile Abhimanyu</td>\n",
       "      <td>2019</td>\n",
       "      <td>2019-03-08</td>\n",
       "      <td>Drama</td>\n",
       "      <td>130</td>\n",
       "      <td>India</td>\n",
       "      <td>Malayalam</td>\n",
       "      <td>Vineesh Aaradya</td>\n",
       "      <td>...</td>\n",
       "      <td>NaN</td>\n",
       "      <td>NaN</td>\n",
       "      <td>NaN</td>\n",
       "      <td>NaN</td>\n",
       "      <td>1.0</td>\n",
       "      <td>1.0</td>\n",
       "      <td>NaN</td>\n",
       "      <td>NaN</td>\n",
       "      <td>2.0</td>\n",
       "      <td>2.0</td>\n",
       "    </tr>\n",
       "    <tr>\n",
       "      <th>85853</th>\n",
       "      <td>tt9914286</td>\n",
       "      <td>Sokagin Çocuklari</td>\n",
       "      <td>Sokagin Çocuklari</td>\n",
       "      <td>2019</td>\n",
       "      <td>2019-03-15</td>\n",
       "      <td>Drama, Family</td>\n",
       "      <td>98</td>\n",
       "      <td>Turkey</td>\n",
       "      <td>Turkish</td>\n",
       "      <td>Ahmet Faik Akinci</td>\n",
       "      <td>...</td>\n",
       "      <td>NaN</td>\n",
       "      <td>NaN</td>\n",
       "      <td>7.0</td>\n",
       "      <td>1.0</td>\n",
       "      <td>4.0</td>\n",
       "      <td>3.0</td>\n",
       "      <td>1.7</td>\n",
       "      <td>5.0</td>\n",
       "      <td>5.8</td>\n",
       "      <td>5.0</td>\n",
       "    </tr>\n",
       "    <tr>\n",
       "      <th>85854</th>\n",
       "      <td>tt9914942</td>\n",
       "      <td>La vida sense la Sara Amat</td>\n",
       "      <td>La vida sense la Sara Amat</td>\n",
       "      <td>2019</td>\n",
       "      <td>2020-02-05</td>\n",
       "      <td>Drama</td>\n",
       "      <td>74</td>\n",
       "      <td>Spain</td>\n",
       "      <td>Catalan</td>\n",
       "      <td>Laura Jou</td>\n",
       "      <td>...</td>\n",
       "      <td>6.8</td>\n",
       "      <td>4.0</td>\n",
       "      <td>7.5</td>\n",
       "      <td>4.0</td>\n",
       "      <td>7.0</td>\n",
       "      <td>4.0</td>\n",
       "      <td>6.7</td>\n",
       "      <td>13.0</td>\n",
       "      <td>6.7</td>\n",
       "      <td>60.0</td>\n",
       "    </tr>\n",
       "  </tbody>\n",
       "</table>\n",
       "<p>85855 rows × 70 columns</p>\n",
       "</div>"
      ],
      "text/plain": [
       "      imdb_title_id                           title  \\\n",
       "0         tt0000009                      Miss Jerry   \n",
       "1         tt0000574     The Story of the Kelly Gang   \n",
       "2         tt0001892                  Den sorte drøm   \n",
       "3         tt0002101                       Cleopatra   \n",
       "4         tt0002130                       L'Inferno   \n",
       "...             ...                             ...   \n",
       "85850     tt9908390                         Le lion   \n",
       "85851     tt9911196  De Beentjes van Sint-Hildegard   \n",
       "85852     tt9911774       Padmavyuhathile Abhimanyu   \n",
       "85853     tt9914286               Sokagin Çocuklari   \n",
       "85854     tt9914942      La vida sense la Sara Amat   \n",
       "\n",
       "                       original_title  year date_published  \\\n",
       "0                          Miss Jerry  1894     1894-10-09   \n",
       "1         The Story of the Kelly Gang  1906     1906-12-26   \n",
       "2                      Den sorte drøm  1911     1911-08-19   \n",
       "3                           Cleopatra  1912     1912-11-13   \n",
       "4                           L'Inferno  1911     1911-03-06   \n",
       "...                               ...   ...            ...   \n",
       "85850                         Le lion  2020     2020-01-29   \n",
       "85851  De Beentjes van Sint-Hildegard  2020     2020-02-13   \n",
       "85852       Padmavyuhathile Abhimanyu  2019     2019-03-08   \n",
       "85853               Sokagin Çocuklari  2019     2019-03-15   \n",
       "85854      La vida sense la Sara Amat  2019     2020-02-05   \n",
       "\n",
       "                           genre  duration           country       language  \\\n",
       "0                        Romance        45               USA           None   \n",
       "1        Biography, Crime, Drama        70         Australia           None   \n",
       "2                          Drama        53  Germany, Denmark            NaN   \n",
       "3                 Drama, History       100               USA        English   \n",
       "4      Adventure, Drama, Fantasy        68             Italy        Italian   \n",
       "...                          ...       ...               ...            ...   \n",
       "85850                     Comedy        95   France, Belgium         French   \n",
       "85851              Comedy, Drama       103       Netherlands  German, Dutch   \n",
       "85852                      Drama       130             India      Malayalam   \n",
       "85853              Drama, Family        98            Turkey        Turkish   \n",
       "85854                      Drama        74             Spain        Catalan   \n",
       "\n",
       "                                  director  ... females_30age_avg_vote  \\\n",
       "0                          Alexander Black  ...                    5.7   \n",
       "1                             Charles Tait  ...                    6.2   \n",
       "2                                Urban Gad  ...                    5.8   \n",
       "3                       Charles L. Gaskill  ...                    5.5   \n",
       "4      Francesco Bertolini, Adolfo Padovan  ...                    7.3   \n",
       "...                                    ...  ...                    ...   \n",
       "85850               Ludovic Colbeau-Justin  ...                    5.7   \n",
       "85851                      Johan Nijenhuis  ...                    8.0   \n",
       "85852                      Vineesh Aaradya  ...                    NaN   \n",
       "85853                    Ahmet Faik Akinci  ...                    NaN   \n",
       "85854                            Laura Jou  ...                    6.8   \n",
       "\n",
       "      females_30age_votes females_45age_avg_vote females_45age_votes  \\\n",
       "0                    13.0                    4.5                 4.0   \n",
       "1                    23.0                    6.6                14.0   \n",
       "2                     4.0                    6.8                 7.0   \n",
       "3                    14.0                    6.1                21.0   \n",
       "4                    82.0                    7.4                77.0   \n",
       "...                   ...                    ...                 ...   \n",
       "85850                11.0                    5.0                 2.0   \n",
       "85851                47.0                    7.3                30.0   \n",
       "85852                 NaN                    NaN                 NaN   \n",
       "85853                 NaN                    7.0                 1.0   \n",
       "85854                 4.0                    7.5                 4.0   \n",
       "\n",
       "       top1000_voters_rating  top1000_voters_votes us_voters_rating  \\\n",
       "0                        5.7                  34.0              6.4   \n",
       "1                        6.4                  66.0              6.0   \n",
       "2                        5.4                  32.0              6.2   \n",
       "3                        4.9                  57.0              5.5   \n",
       "4                        6.9                 139.0              7.0   \n",
       "...                      ...                   ...              ...   \n",
       "85850                    5.5                  12.0              6.3   \n",
       "85851                    7.0                   6.0              6.8   \n",
       "85852                    1.0                   1.0              NaN   \n",
       "85853                    4.0                   3.0              1.7   \n",
       "85854                    7.0                   4.0              6.7   \n",
       "\n",
       "      us_voters_votes non_us_voters_rating  non_us_voters_votes  \n",
       "0                51.0                  6.0                 70.0  \n",
       "1                96.0                  6.2                331.0  \n",
       "2                31.0                  5.9                123.0  \n",
       "3               207.0                  4.7                105.0  \n",
       "4               488.0                  7.0               1166.0  \n",
       "...               ...                  ...                  ...  \n",
       "85850            22.0                  5.3                214.0  \n",
       "85851            13.0                  7.7                388.0  \n",
       "85852             NaN                  2.0                  2.0  \n",
       "85853             5.0                  5.8                  5.0  \n",
       "85854            13.0                  6.7                 60.0  \n",
       "\n",
       "[85855 rows x 70 columns]"
      ]
     },
     "execution_count": 10,
     "metadata": {},
     "output_type": "execute_result"
    }
   ],
   "source": [
    "pd.merge(df1, df3, on='imdb_title_id')"
   ]
  },
  {
   "cell_type": "code",
   "execution_count": 11,
   "id": "6ec8af18",
   "metadata": {},
   "outputs": [],
   "source": [
    "df_merged = pd.merge(df1, df3, on='imdb_title_id')"
   ]
  },
  {
   "cell_type": "code",
   "execution_count": 12,
   "id": "6c0c5ebe",
   "metadata": {},
   "outputs": [
    {
     "name": "stdout",
     "output_type": "stream",
     "text": [
      "<class 'pandas.core.frame.DataFrame'>\n",
      "Int64Index: 85855 entries, 0 to 85854\n",
      "Data columns (total 70 columns):\n",
      " #   Column                     Non-Null Count  Dtype  \n",
      "---  ------                     --------------  -----  \n",
      " 0   imdb_title_id              85855 non-null  object \n",
      " 1   title                      85855 non-null  object \n",
      " 2   original_title             85855 non-null  object \n",
      " 3   year                       85855 non-null  object \n",
      " 4   date_published             85855 non-null  object \n",
      " 5   genre                      85855 non-null  object \n",
      " 6   duration                   85855 non-null  int64  \n",
      " 7   country                    85791 non-null  object \n",
      " 8   language                   85022 non-null  object \n",
      " 9   director                   85768 non-null  object \n",
      " 10  writer                     84283 non-null  object \n",
      " 11  production_company         81400 non-null  object \n",
      " 12  actors                     85786 non-null  object \n",
      " 13  description                83740 non-null  object \n",
      " 14  avg_vote                   85855 non-null  float64\n",
      " 15  votes                      85855 non-null  int64  \n",
      " 16  budget                     23710 non-null  object \n",
      " 17  usa_gross_income           15326 non-null  object \n",
      " 18  worlwide_gross_income      31016 non-null  object \n",
      " 19  metascore                  13305 non-null  float64\n",
      " 20  reviews_from_users         78258 non-null  float64\n",
      " 21  reviews_from_critics       74058 non-null  float64\n",
      " 22  weighted_average_vote      85855 non-null  float64\n",
      " 23  total_votes                85855 non-null  int64  \n",
      " 24  mean_vote                  85855 non-null  float64\n",
      " 25  median_vote                85855 non-null  float64\n",
      " 26  votes_10                   85855 non-null  int64  \n",
      " 27  votes_9                    85855 non-null  int64  \n",
      " 28  votes_8                    85855 non-null  int64  \n",
      " 29  votes_7                    85855 non-null  int64  \n",
      " 30  votes_6                    85855 non-null  int64  \n",
      " 31  votes_5                    85855 non-null  int64  \n",
      " 32  votes_4                    85855 non-null  int64  \n",
      " 33  votes_3                    85855 non-null  int64  \n",
      " 34  votes_2                    85855 non-null  int64  \n",
      " 35  votes_1                    85855 non-null  int64  \n",
      " 36  allgenders_0age_avg_vote   33359 non-null  float64\n",
      " 37  allgenders_0age_votes      33359 non-null  float64\n",
      " 38  allgenders_18age_avg_vote  85149 non-null  float64\n",
      " 39  allgenders_18age_votes     85149 non-null  float64\n",
      " 40  allgenders_30age_avg_vote  85845 non-null  float64\n",
      " 41  allgenders_30age_votes     85845 non-null  float64\n",
      " 42  allgenders_45age_avg_vote  85775 non-null  float64\n",
      " 43  allgenders_45age_votes     85775 non-null  float64\n",
      " 44  males_allages_avg_vote     85854 non-null  float64\n",
      " 45  males_allages_votes        85854 non-null  float64\n",
      " 46  males_0age_avg_vote        27411 non-null  float64\n",
      " 47  males_0age_votes           27411 non-null  float64\n",
      " 48  males_18age_avg_vote       84390 non-null  float64\n",
      " 49  males_18age_votes          84390 non-null  float64\n",
      " 50  males_30age_avg_vote       85843 non-null  float64\n",
      " 51  males_30age_votes          85843 non-null  float64\n",
      " 52  males_45age_avg_vote       85754 non-null  float64\n",
      " 53  males_45age_votes          85754 non-null  float64\n",
      " 54  females_allages_avg_vote   85774 non-null  float64\n",
      " 55  females_allages_votes      85774 non-null  float64\n",
      " 56  females_0age_avg_vote      22117 non-null  float64\n",
      " 57  females_0age_votes         22117 non-null  float64\n",
      " 58  females_18age_avg_vote     79334 non-null  float64\n",
      " 59  females_18age_votes        79334 non-null  float64\n",
      " 60  females_30age_avg_vote     84911 non-null  float64\n",
      " 61  females_30age_votes        84911 non-null  float64\n",
      " 62  females_45age_avg_vote     83057 non-null  float64\n",
      " 63  females_45age_votes        83057 non-null  float64\n",
      " 64  top1000_voters_rating      85176 non-null  float64\n",
      " 65  top1000_voters_votes       85176 non-null  float64\n",
      " 66  us_voters_rating           85646 non-null  float64\n",
      " 67  us_voters_votes            85646 non-null  float64\n",
      " 68  non_us_voters_rating       85854 non-null  float64\n",
      " 69  non_us_voters_votes        85854 non-null  float64\n",
      "dtypes: float64(41), int64(13), object(16)\n",
      "memory usage: 46.5+ MB\n"
     ]
    }
   ],
   "source": [
    "df_merged.info()"
   ]
  },
  {
   "cell_type": "code",
   "execution_count": 13,
   "id": "c75e8a27",
   "metadata": {},
   "outputs": [],
   "source": [
    "df_merged = df_merged.dropna(subset=[\"language\",\"usa_gross_income\",\"budget\",\"country\",\"worlwide_gross_income\",\"females_30age_votes\",\"females_30age_avg_vote\",\"females_18age_votes\",\"females_18age_avg_vote\",\n",
    "                                     \"production_company\",\"writer\",\"weighted_average_vote\",\"metascore\",\"females_0age_votes\",\"females_0age_avg_vote\",\"males_18age_votes\",\"males_18age_avg_vote\",\"males_0age_votes\",\"males_0age_avg_vote\",\"allgenders_0age_votes\",\"allgenders_0age_avg_vote\",\"reviews_from_critics\", \"reviews_from_users\"])"
   ]
  },
  {
   "cell_type": "code",
   "execution_count": 14,
   "id": "c4236ace",
   "metadata": {},
   "outputs": [],
   "source": [
    "df_merged[\"date_published\"] = pd.to_datetime(df_merged[\"date_published\"])"
   ]
  },
  {
   "cell_type": "code",
   "execution_count": 15,
   "id": "51547820",
   "metadata": {},
   "outputs": [
    {
     "data": {
      "text/plain": [
       "506     1928\n",
       "1048    1931\n",
       "2454    1937\n",
       "2795    1937\n",
       "2827    1938\n",
       "Name: year_published, dtype: int64"
      ]
     },
     "execution_count": 15,
     "metadata": {},
     "output_type": "execute_result"
    }
   ],
   "source": [
    "df_merged[\"year_published\"] = df_merged[\"date_published\"].dt.year\n",
    "\n",
    "df_merged[\"year_published\"].head()"
   ]
  },
  {
   "cell_type": "code",
   "execution_count": 16,
   "id": "f8bac640",
   "metadata": {},
   "outputs": [
    {
     "data": {
      "text/plain": [
       "506     10\n",
       "1048     4\n",
       "2454     3\n",
       "2795    10\n",
       "2827    11\n",
       "Name: month_published, dtype: int64"
      ]
     },
     "execution_count": 16,
     "metadata": {},
     "output_type": "execute_result"
    }
   ],
   "source": [
    "df_merged[\"month_published\"] = df_merged[\"date_published\"].dt.month\n",
    "\n",
    "df_merged[\"month_published\"].head()"
   ]
  },
  {
   "cell_type": "code",
   "execution_count": 17,
   "id": "d68912b9",
   "metadata": {},
   "outputs": [
    {
     "data": {
      "text/plain": [
       "506      1\n",
       "1048     2\n",
       "2454    12\n",
       "2795    22\n",
       "2827    30\n",
       "Name: day_published, dtype: int64"
      ]
     },
     "execution_count": 17,
     "metadata": {},
     "output_type": "execute_result"
    }
   ],
   "source": [
    "df_merged[\"day_published\"] = df_merged[\"date_published\"].dt.day\n",
    "\n",
    "df_merged[\"day_published\"].head()"
   ]
  },
  {
   "cell_type": "code",
   "execution_count": 18,
   "id": "8f9f392f",
   "metadata": {},
   "outputs": [],
   "source": [
    "df_merged.drop(\"date_published\", axis=1, inplace=True)\n",
    "df_merged.drop(\"imdb_title_id\", axis=1, inplace=True)\n",
    "df_merged.drop(\"title\", axis=1, inplace=True)\n",
    "df_merged.drop(\"original_title\", axis=1, inplace=True)\n",
    "df_merged.drop(\"description\", axis=1, inplace=True)\n",
    "df_merged.drop(\"year\", axis=1, inplace=True)\n",
    "df_merged.drop(\"actors\", axis=1, inplace=True)\n",
    "df_merged.drop(\"writer\", axis=1, inplace=True)\n",
    "df_merged.drop(\"genre\", axis=1, inplace=True)\n",
    "df_merged.drop(\"country\", axis=1, inplace=True)\n",
    "df_merged.drop(\"language\", axis=1, inplace=True)\n",
    "df_merged.drop(\"director\", axis=1, inplace=True)\n",
    "df_merged.drop(\"production_company\", axis=1, inplace=True)\n",
    "\n",
    "\n",
    "\n"
   ]
  },
  {
   "cell_type": "code",
   "execution_count": 19,
   "id": "7dff2bcd",
   "metadata": {},
   "outputs": [
    {
     "name": "stdout",
     "output_type": "stream",
     "text": [
      "<class 'pandas.core.frame.DataFrame'>\n",
      "Int64Index: 4877 entries, 506 to 85740\n",
      "Data columns (total 60 columns):\n",
      " #   Column                     Non-Null Count  Dtype  \n",
      "---  ------                     --------------  -----  \n",
      " 0   duration                   4877 non-null   int64  \n",
      " 1   avg_vote                   4877 non-null   float64\n",
      " 2   votes                      4877 non-null   int64  \n",
      " 3   budget                     4877 non-null   object \n",
      " 4   usa_gross_income           4877 non-null   object \n",
      " 5   worlwide_gross_income      4877 non-null   object \n",
      " 6   metascore                  4877 non-null   float64\n",
      " 7   reviews_from_users         4877 non-null   float64\n",
      " 8   reviews_from_critics       4877 non-null   float64\n",
      " 9   weighted_average_vote      4877 non-null   float64\n",
      " 10  total_votes                4877 non-null   int64  \n",
      " 11  mean_vote                  4877 non-null   float64\n",
      " 12  median_vote                4877 non-null   float64\n",
      " 13  votes_10                   4877 non-null   int64  \n",
      " 14  votes_9                    4877 non-null   int64  \n",
      " 15  votes_8                    4877 non-null   int64  \n",
      " 16  votes_7                    4877 non-null   int64  \n",
      " 17  votes_6                    4877 non-null   int64  \n",
      " 18  votes_5                    4877 non-null   int64  \n",
      " 19  votes_4                    4877 non-null   int64  \n",
      " 20  votes_3                    4877 non-null   int64  \n",
      " 21  votes_2                    4877 non-null   int64  \n",
      " 22  votes_1                    4877 non-null   int64  \n",
      " 23  allgenders_0age_avg_vote   4877 non-null   float64\n",
      " 24  allgenders_0age_votes      4877 non-null   float64\n",
      " 25  allgenders_18age_avg_vote  4877 non-null   float64\n",
      " 26  allgenders_18age_votes     4877 non-null   float64\n",
      " 27  allgenders_30age_avg_vote  4877 non-null   float64\n",
      " 28  allgenders_30age_votes     4877 non-null   float64\n",
      " 29  allgenders_45age_avg_vote  4877 non-null   float64\n",
      " 30  allgenders_45age_votes     4877 non-null   float64\n",
      " 31  males_allages_avg_vote     4877 non-null   float64\n",
      " 32  males_allages_votes        4877 non-null   float64\n",
      " 33  males_0age_avg_vote        4877 non-null   float64\n",
      " 34  males_0age_votes           4877 non-null   float64\n",
      " 35  males_18age_avg_vote       4877 non-null   float64\n",
      " 36  males_18age_votes          4877 non-null   float64\n",
      " 37  males_30age_avg_vote       4877 non-null   float64\n",
      " 38  males_30age_votes          4877 non-null   float64\n",
      " 39  males_45age_avg_vote       4877 non-null   float64\n",
      " 40  males_45age_votes          4877 non-null   float64\n",
      " 41  females_allages_avg_vote   4877 non-null   float64\n",
      " 42  females_allages_votes      4877 non-null   float64\n",
      " 43  females_0age_avg_vote      4877 non-null   float64\n",
      " 44  females_0age_votes         4877 non-null   float64\n",
      " 45  females_18age_avg_vote     4877 non-null   float64\n",
      " 46  females_18age_votes        4877 non-null   float64\n",
      " 47  females_30age_avg_vote     4877 non-null   float64\n",
      " 48  females_30age_votes        4877 non-null   float64\n",
      " 49  females_45age_avg_vote     4877 non-null   float64\n",
      " 50  females_45age_votes        4877 non-null   float64\n",
      " 51  top1000_voters_rating      4877 non-null   float64\n",
      " 52  top1000_voters_votes       4877 non-null   float64\n",
      " 53  us_voters_rating           4877 non-null   float64\n",
      " 54  us_voters_votes            4877 non-null   float64\n",
      " 55  non_us_voters_rating       4877 non-null   float64\n",
      " 56  non_us_voters_votes        4877 non-null   float64\n",
      " 57  year_published             4877 non-null   int64  \n",
      " 58  month_published            4877 non-null   int64  \n",
      " 59  day_published              4877 non-null   int64  \n",
      "dtypes: float64(41), int64(16), object(3)\n",
      "memory usage: 2.3+ MB\n"
     ]
    }
   ],
   "source": [
    "df_merged.info()"
   ]
  },
  {
   "cell_type": "code",
   "execution_count": 20,
   "id": "5af44aae",
   "metadata": {},
   "outputs": [],
   "source": []
  },
  {
   "cell_type": "code",
   "execution_count": null,
   "id": "d0319dda",
   "metadata": {},
   "outputs": [],
   "source": []
  },
  {
   "cell_type": "code",
   "execution_count": 21,
   "id": "d6d5a641",
   "metadata": {},
   "outputs": [
    {
     "data": {
      "text/plain": [
       "506      DEM 6000000\n",
       "1048       $ 1500000\n",
       "2454       $ 1500000\n",
       "2795         $ 60000\n",
       "2827       $ 1499000\n",
       "            ...     \n",
       "85266      $ 3000000\n",
       "85274     $ 10000000\n",
       "85397      $ 5000000\n",
       "85460     $ 11100000\n",
       "85740     $ 12000000\n",
       "Name: budget, Length: 4877, dtype: object"
      ]
     },
     "execution_count": 21,
     "metadata": {},
     "output_type": "execute_result"
    }
   ],
   "source": [
    "df_merged[\"budget\"]"
   ]
  },
  {
   "cell_type": "code",
   "execution_count": 22,
   "id": "55ea0a1b",
   "metadata": {},
   "outputs": [],
   "source": [
    "df_merged['New_budget'] = df_merged.budget.str.replace('\\D+', '')\n"
   ]
  },
  {
   "cell_type": "code",
   "execution_count": null,
   "id": "927fe87a",
   "metadata": {},
   "outputs": [],
   "source": []
  },
  {
   "cell_type": "code",
   "execution_count": 23,
   "id": "23df35ec",
   "metadata": {},
   "outputs": [],
   "source": [
    "df_merged[\"New_budget\"] = [int(i) for i in df_merged[\"New_budget\"]]"
   ]
  },
  {
   "cell_type": "code",
   "execution_count": 24,
   "id": "bfdfbe2b",
   "metadata": {},
   "outputs": [
    {
     "data": {
      "text/plain": [
       "506       6000000\n",
       "1048      1500000\n",
       "2454      1500000\n",
       "2795        60000\n",
       "2827      1499000\n",
       "           ...   \n",
       "85266     3000000\n",
       "85274    10000000\n",
       "85397     5000000\n",
       "85460    11100000\n",
       "85740    12000000\n",
       "Name: New_budget, Length: 4877, dtype: int64"
      ]
     },
     "execution_count": 24,
     "metadata": {},
     "output_type": "execute_result"
    }
   ],
   "source": [
    "df_merged['New_budget']"
   ]
  },
  {
   "cell_type": "code",
   "execution_count": 25,
   "id": "20232540",
   "metadata": {},
   "outputs": [],
   "source": [
    "df_merged['New_usa_gross_income'] = df_merged.usa_gross_income.str.replace('\\D+', '')"
   ]
  },
  {
   "cell_type": "code",
   "execution_count": 26,
   "id": "8f85c578",
   "metadata": {},
   "outputs": [],
   "source": [
    "df_merged[\"New_usa_gross_income\"] = [int(i) for i in df_merged[\"New_usa_gross_income\"]]"
   ]
  },
  {
   "cell_type": "code",
   "execution_count": 27,
   "id": "f7b2c8a1",
   "metadata": {},
   "outputs": [],
   "source": [
    "df_merged['New_worlwide_gross_income'] = df_merged.worlwide_gross_income.str.replace('\\D+', '')"
   ]
  },
  {
   "cell_type": "code",
   "execution_count": 28,
   "id": "70b80463",
   "metadata": {},
   "outputs": [],
   "source": [
    "df_merged[\"New_worlwide_gross_income\"] = [int(i) for i in df_merged[\"New_worlwide_gross_income\"]]"
   ]
  },
  {
   "cell_type": "code",
   "execution_count": null,
   "id": "51ab6cc9",
   "metadata": {},
   "outputs": [],
   "source": []
  },
  {
   "cell_type": "code",
   "execution_count": 29,
   "id": "7650b601",
   "metadata": {},
   "outputs": [],
   "source": [
    "df_merged.drop(\"budget\", axis=1, inplace=True)"
   ]
  },
  {
   "cell_type": "code",
   "execution_count": 30,
   "id": "69ff791e",
   "metadata": {},
   "outputs": [],
   "source": [
    "df_merged.drop(\"usa_gross_income\", axis=1, inplace=True)"
   ]
  },
  {
   "cell_type": "code",
   "execution_count": 31,
   "id": "8ce29368",
   "metadata": {},
   "outputs": [],
   "source": [
    "df_merged.drop(\"worlwide_gross_income\", axis=1, inplace=True)"
   ]
  },
  {
   "cell_type": "code",
   "execution_count": 32,
   "id": "ad7d9270",
   "metadata": {},
   "outputs": [
    {
     "name": "stdout",
     "output_type": "stream",
     "text": [
      "<class 'pandas.core.frame.DataFrame'>\n",
      "Int64Index: 4877 entries, 506 to 85740\n",
      "Data columns (total 60 columns):\n",
      " #   Column                     Non-Null Count  Dtype  \n",
      "---  ------                     --------------  -----  \n",
      " 0   duration                   4877 non-null   int64  \n",
      " 1   avg_vote                   4877 non-null   float64\n",
      " 2   votes                      4877 non-null   int64  \n",
      " 3   metascore                  4877 non-null   float64\n",
      " 4   reviews_from_users         4877 non-null   float64\n",
      " 5   reviews_from_critics       4877 non-null   float64\n",
      " 6   weighted_average_vote      4877 non-null   float64\n",
      " 7   total_votes                4877 non-null   int64  \n",
      " 8   mean_vote                  4877 non-null   float64\n",
      " 9   median_vote                4877 non-null   float64\n",
      " 10  votes_10                   4877 non-null   int64  \n",
      " 11  votes_9                    4877 non-null   int64  \n",
      " 12  votes_8                    4877 non-null   int64  \n",
      " 13  votes_7                    4877 non-null   int64  \n",
      " 14  votes_6                    4877 non-null   int64  \n",
      " 15  votes_5                    4877 non-null   int64  \n",
      " 16  votes_4                    4877 non-null   int64  \n",
      " 17  votes_3                    4877 non-null   int64  \n",
      " 18  votes_2                    4877 non-null   int64  \n",
      " 19  votes_1                    4877 non-null   int64  \n",
      " 20  allgenders_0age_avg_vote   4877 non-null   float64\n",
      " 21  allgenders_0age_votes      4877 non-null   float64\n",
      " 22  allgenders_18age_avg_vote  4877 non-null   float64\n",
      " 23  allgenders_18age_votes     4877 non-null   float64\n",
      " 24  allgenders_30age_avg_vote  4877 non-null   float64\n",
      " 25  allgenders_30age_votes     4877 non-null   float64\n",
      " 26  allgenders_45age_avg_vote  4877 non-null   float64\n",
      " 27  allgenders_45age_votes     4877 non-null   float64\n",
      " 28  males_allages_avg_vote     4877 non-null   float64\n",
      " 29  males_allages_votes        4877 non-null   float64\n",
      " 30  males_0age_avg_vote        4877 non-null   float64\n",
      " 31  males_0age_votes           4877 non-null   float64\n",
      " 32  males_18age_avg_vote       4877 non-null   float64\n",
      " 33  males_18age_votes          4877 non-null   float64\n",
      " 34  males_30age_avg_vote       4877 non-null   float64\n",
      " 35  males_30age_votes          4877 non-null   float64\n",
      " 36  males_45age_avg_vote       4877 non-null   float64\n",
      " 37  males_45age_votes          4877 non-null   float64\n",
      " 38  females_allages_avg_vote   4877 non-null   float64\n",
      " 39  females_allages_votes      4877 non-null   float64\n",
      " 40  females_0age_avg_vote      4877 non-null   float64\n",
      " 41  females_0age_votes         4877 non-null   float64\n",
      " 42  females_18age_avg_vote     4877 non-null   float64\n",
      " 43  females_18age_votes        4877 non-null   float64\n",
      " 44  females_30age_avg_vote     4877 non-null   float64\n",
      " 45  females_30age_votes        4877 non-null   float64\n",
      " 46  females_45age_avg_vote     4877 non-null   float64\n",
      " 47  females_45age_votes        4877 non-null   float64\n",
      " 48  top1000_voters_rating      4877 non-null   float64\n",
      " 49  top1000_voters_votes       4877 non-null   float64\n",
      " 50  us_voters_rating           4877 non-null   float64\n",
      " 51  us_voters_votes            4877 non-null   float64\n",
      " 52  non_us_voters_rating       4877 non-null   float64\n",
      " 53  non_us_voters_votes        4877 non-null   float64\n",
      " 54  year_published             4877 non-null   int64  \n",
      " 55  month_published            4877 non-null   int64  \n",
      " 56  day_published              4877 non-null   int64  \n",
      " 57  New_budget                 4877 non-null   int64  \n",
      " 58  New_usa_gross_income       4877 non-null   int64  \n",
      " 59  New_worlwide_gross_income  4877 non-null   int64  \n",
      "dtypes: float64(41), int64(19)\n",
      "memory usage: 2.3 MB\n"
     ]
    }
   ],
   "source": [
    "df_merged.info()"
   ]
  },
  {
   "cell_type": "code",
   "execution_count": 97,
   "id": "95d535a7",
   "metadata": {},
   "outputs": [
    {
     "data": {
      "image/png": "[encoded data removed]",
      "text/plain": [
       "<Figure size 1080x648 with 6 Axes>"
      ]
     },
     "metadata": {
      "needs_background": "light"
     },
     "output_type": "display_data"
    }
   ],
   "source": [
    "numerical_attributes = ['duration', 'metascore', 'day_published', 'year_published', 'mean_vote', 'top1000_voters_rating']\n",
    "df_merged[numerical_attributes].hist(figsize = (15, 9), color = 'blue', edgecolor = 'red', layout = (3, 2));"
   ]
  },
  {
   "cell_type": "code",
   "execution_count": null,
   "id": "aee52f39",
   "metadata": {},
   "outputs": [],
   "source": []
  },
  {
   "cell_type": "code",
   "execution_count": null,
   "id": "e6f08ec5",
   "metadata": {},
   "outputs": [],
   "source": []
  },
  {
   "cell_type": "code",
   "execution_count": null,
   "id": "a4a2a3e7",
   "metadata": {},
   "outputs": [],
   "source": []
  },
  {
   "cell_type": "code",
   "execution_count": 33,
   "id": "75f313f3",
   "metadata": {},
   "outputs": [],
   "source": []
  },
  {
   "cell_type": "code",
   "execution_count": 34,
   "id": "55cae849",
   "metadata": {},
   "outputs": [],
   "source": [
    "X = df_merged.drop([\"weighted_average_vote\"], axis=1)\n",
    "y = df_merged[\"weighted_average_vote\"]"
   ]
  },
  {
   "cell_type": "code",
   "execution_count": 35,
   "id": "49afae6c",
   "metadata": {},
   "outputs": [],
   "source": [
    "df_merged.drop(\"weighted_average_vote\", axis=1, inplace=True)"
   ]
  },
  {
   "cell_type": "code",
   "execution_count": 36,
   "id": "7f691580",
   "metadata": {},
   "outputs": [],
   "source": [
    "numerical = [var for var in df_merged.columns if df_merged[var].dtype!=\"O\"]"
   ]
  },
  {
   "cell_type": "code",
   "execution_count": 37,
   "id": "0a7c5d7e",
   "metadata": {},
   "outputs": [
    {
     "name": "stdout",
     "output_type": "stream",
     "text": [
      "duration contains 136 labels\n",
      "avg_vote contains 74 labels\n",
      "votes contains 4829 labels\n",
      "metascore contains 95 labels\n",
      "reviews_from_users contains 1169 labels\n",
      "reviews_from_critics contains 589 labels\n",
      "total_votes contains 4829 labels\n",
      "mean_vote contains 66 labels\n",
      "median_vote contains 11 labels\n",
      "votes_10 contains 4169 labels\n",
      "votes_9 contains 4006 labels\n",
      "votes_8 contains 4460 labels\n",
      "votes_7 contains 4605 labels\n",
      "votes_6 contains 4538 labels\n",
      "votes_5 contains 4234 labels\n",
      "votes_4 contains 3664 labels\n",
      "votes_3 contains 3025 labels\n",
      "votes_2 contains 2448 labels\n",
      "votes_1 contains 2908 labels\n",
      "allgenders_0age_avg_vote contains 84 labels\n",
      "allgenders_0age_votes contains 522 labels\n",
      "allgenders_18age_avg_vote contains 76 labels\n",
      "allgenders_18age_votes contains 4520 labels\n",
      "allgenders_30age_avg_vote contains 77 labels\n",
      "allgenders_30age_votes contains 4745 labels\n",
      "allgenders_45age_avg_vote contains 73 labels\n",
      "allgenders_45age_votes contains 4465 labels\n",
      "males_allages_avg_vote contains 75 labels\n",
      "males_allages_votes contains 4779 labels\n",
      "males_0age_avg_vote contains 84 labels\n",
      "males_0age_votes contains 424 labels\n",
      "males_18age_avg_vote contains 78 labels\n",
      "males_18age_votes contains 4342 labels\n",
      "males_30age_avg_vote contains 77 labels\n",
      "males_30age_votes contains 4710 labels\n",
      "males_45age_avg_vote contains 75 labels\n",
      "males_45age_votes contains 4351 labels\n",
      "females_allages_avg_vote contains 70 labels\n",
      "females_allages_votes contains 4461 labels\n",
      "females_0age_avg_vote contains 78 labels\n",
      "females_0age_votes contains 183 labels\n",
      "females_18age_avg_vote contains 69 labels\n",
      "females_18age_votes contains 3592 labels\n",
      "females_30age_avg_vote contains 69 labels\n",
      "females_30age_votes contains 4117 labels\n",
      "females_45age_avg_vote contains 69 labels\n",
      "females_45age_votes contains 2967 labels\n",
      "top1000_voters_rating contains 70 labels\n",
      "top1000_voters_votes contains 838 labels\n",
      "us_voters_rating contains 78 labels\n",
      "us_voters_votes contains 4571 labels\n",
      "non_us_voters_rating contains 74 labels\n",
      "non_us_voters_votes contains 4769 labels\n",
      "year_published contains 79 labels\n",
      "month_published contains 12 labels\n",
      "day_published contains 31 labels\n",
      "New_budget contains 473 labels\n",
      "New_usa_gross_income contains 4876 labels\n",
      "New_worlwide_gross_income contains 4876 labels\n"
     ]
    }
   ],
   "source": [
    "for var in numerical:\n",
    "    \n",
    "    print(var, \"contains\", len(df_merged[var].unique()), \"labels\")"
   ]
  },
  {
   "cell_type": "code",
   "execution_count": 38,
   "id": "8fe13122",
   "metadata": {},
   "outputs": [],
   "source": [
    "categorical = [var for var in df_merged.columns if df_merged[var].dtype==\"O\"]"
   ]
  },
  {
   "cell_type": "code",
   "execution_count": 39,
   "id": "8ece0a8a",
   "metadata": {},
   "outputs": [],
   "source": [
    "for var in categorical:\n",
    "    \n",
    "    print(var, \"contains\", len(df_merged[var].unique()), \"labels\")"
   ]
  },
  {
   "cell_type": "code",
   "execution_count": 40,
   "id": "22dc7d00",
   "metadata": {},
   "outputs": [],
   "source": [
    "from sklearn.model_selection import train_test_split\n",
    "\n",
    "X_train, X_test, y_train, y_test = train_test_split(X, y, test_size = 0.2, random_state = 0)"
   ]
  },
  {
   "cell_type": "code",
   "execution_count": 41,
   "id": "7826d357",
   "metadata": {},
   "outputs": [
    {
     "data": {
      "text/plain": [
       "((3901, 59), (976, 59))"
      ]
     },
     "execution_count": 41,
     "metadata": {},
     "output_type": "execute_result"
    }
   ],
   "source": [
    "X_train.shape, X_test.shape"
   ]
  },
  {
   "cell_type": "code",
   "execution_count": null,
   "id": "272ba7f3",
   "metadata": {},
   "outputs": [],
   "source": []
  },
  {
   "cell_type": "code",
   "execution_count": null,
   "id": "aa1632f6",
   "metadata": {},
   "outputs": [],
   "source": []
  },
  {
   "cell_type": "code",
   "execution_count": 42,
   "id": "4541368c",
   "metadata": {},
   "outputs": [
    {
     "data": {
      "text/plain": [
       "'X_train = pd.concat([X_train[numerical],\\n                     pd.get_dummies(X.genre),\\n                     pd.get_dummies(X.country),\\n                     pd.get_dummies(X.language),\\n                     pd.get_dummies(X.director),\\n                     pd.get_dummies(X.production_company),\\n                   \\n                     ], axis=1)'"
      ]
     },
     "execution_count": 42,
     "metadata": {},
     "output_type": "execute_result"
    }
   ],
   "source": []
  },
  {
   "cell_type": "code",
   "execution_count": 43,
   "id": "60c8bbe8",
   "metadata": {},
   "outputs": [
    {
     "data": {
      "text/plain": [
       "'X_test = pd.concat([X_test[numerical],\\n                     pd.get_dummies(X.genre),\\n                     pd.get_dummies(X.country),\\n                     pd.get_dummies(X.language),\\n                     pd.get_dummies(X.director),\\n                     pd.get_dummies(X.production_company),\\n                       ], axis=1)'"
      ]
     },
     "execution_count": 43,
     "metadata": {},
     "output_type": "execute_result"
    }
   ],
   "source": []
  },
  {
   "cell_type": "code",
   "execution_count": 44,
   "id": "5b879d74",
   "metadata": {},
   "outputs": [],
   "source": [
    "cols = X_train.columns"
   ]
  },
  {
   "cell_type": "code",
   "execution_count": 45,
   "id": "077bab71",
   "metadata": {},
   "outputs": [
    {
     "data": {
      "text/plain": [
       "((3901, 59), (976, 59))"
      ]
     },
     "execution_count": 45,
     "metadata": {},
     "output_type": "execute_result"
    }
   ],
   "source": [
    "X_train.shape, X_test.shape"
   ]
  },
  {
   "cell_type": "code",
   "execution_count": null,
   "id": "a352e843",
   "metadata": {},
   "outputs": [],
   "source": []
  },
  {
   "cell_type": "code",
   "execution_count": 46,
   "id": "51b7855a",
   "metadata": {},
   "outputs": [
    {
     "data": {
      "text/plain": [
       "((3901, 59), (976, 59))"
      ]
     },
     "execution_count": 46,
     "metadata": {},
     "output_type": "execute_result"
    }
   ],
   "source": [
    "X_train.shape, X_test.shape"
   ]
  },
  {
   "cell_type": "code",
   "execution_count": 47,
   "id": "17d72aef",
   "metadata": {},
   "outputs": [],
   "source": [
    "from sklearn.preprocessing import MinMaxScaler\n",
    "\n",
    "sc = StandardScaler()\n",
    "\n",
    "X_train = sc.fit_transform(X_train)\n",
    "\n",
    "X_test = sc.fit_transform(X_test)"
   ]
  },
  {
   "cell_type": "code",
   "execution_count": 48,
   "id": "ad795b0b",
   "metadata": {},
   "outputs": [],
   "source": [
    "X_train = pd.DataFrame(X_train, columns=[cols])"
   ]
  },
  {
   "cell_type": "code",
   "execution_count": 49,
   "id": "c1724148",
   "metadata": {},
   "outputs": [],
   "source": [
    "X_test = pd.DataFrame(X_test, columns=[cols])"
   ]
  },
  {
   "cell_type": "code",
   "execution_count": 50,
   "id": "9986eac0",
   "metadata": {},
   "outputs": [
    {
     "data": {
      "text/html": [
       "<div>\n",
       "<style scoped>\n",
       "    .dataframe tbody tr th:only-of-type {\n",
       "        vertical-align: middle;\n",
       "    }\n",
       "\n",
       "    .dataframe tbody tr th {\n",
       "        vertical-align: top;\n",
       "    }\n",
       "\n",
       "    .dataframe thead tr th {\n",
       "        text-align: left;\n",
       "    }\n",
       "</style>\n",
       "<table border=\"1\" class=\"dataframe\">\n",
       "  <thead>\n",
       "    <tr>\n",
       "      <th></th>\n",
       "      <th>duration</th>\n",
       "      <th>avg_vote</th>\n",
       "      <th>votes</th>\n",
       "      <th>metascore</th>\n",
       "      <th>reviews_from_users</th>\n",
       "      <th>reviews_from_critics</th>\n",
       "      <th>total_votes</th>\n",
       "      <th>mean_vote</th>\n",
       "      <th>median_vote</th>\n",
       "      <th>votes_10</th>\n",
       "      <th>...</th>\n",
       "      <th>us_voters_rating</th>\n",
       "      <th>us_voters_votes</th>\n",
       "      <th>non_us_voters_rating</th>\n",
       "      <th>non_us_voters_votes</th>\n",
       "      <th>year_published</th>\n",
       "      <th>month_published</th>\n",
       "      <th>day_published</th>\n",
       "      <th>New_budget</th>\n",
       "      <th>New_usa_gross_income</th>\n",
       "      <th>New_worlwide_gross_income</th>\n",
       "    </tr>\n",
       "  </thead>\n",
       "  <tbody>\n",
       "    <tr>\n",
       "      <th>count</th>\n",
       "      <td>3.901000e+03</td>\n",
       "      <td>3.901000e+03</td>\n",
       "      <td>3.901000e+03</td>\n",
       "      <td>3.901000e+03</td>\n",
       "      <td>3.901000e+03</td>\n",
       "      <td>3.901000e+03</td>\n",
       "      <td>3.901000e+03</td>\n",
       "      <td>3.901000e+03</td>\n",
       "      <td>3.901000e+03</td>\n",
       "      <td>3.901000e+03</td>\n",
       "      <td>...</td>\n",
       "      <td>3.901000e+03</td>\n",
       "      <td>3.901000e+03</td>\n",
       "      <td>3.901000e+03</td>\n",
       "      <td>3.901000e+03</td>\n",
       "      <td>3.901000e+03</td>\n",
       "      <td>3.901000e+03</td>\n",
       "      <td>3.901000e+03</td>\n",
       "      <td>3.901000e+03</td>\n",
       "      <td>3.901000e+03</td>\n",
       "      <td>3.901000e+03</td>\n",
       "    </tr>\n",
       "    <tr>\n",
       "      <th>mean</th>\n",
       "      <td>-1.707598e-19</td>\n",
       "      <td>-4.815425e-16</td>\n",
       "      <td>-6.796238e-17</td>\n",
       "      <td>-8.976271e-17</td>\n",
       "      <td>-6.716550e-18</td>\n",
       "      <td>-7.911869e-17</td>\n",
       "      <td>-6.796238e-17</td>\n",
       "      <td>-8.249404e-16</td>\n",
       "      <td>6.015297e-16</td>\n",
       "      <td>-1.821437e-17</td>\n",
       "      <td>...</td>\n",
       "      <td>-1.038845e-15</td>\n",
       "      <td>-6.636863e-17</td>\n",
       "      <td>-1.436659e-16</td>\n",
       "      <td>-3.312739e-17</td>\n",
       "      <td>5.074638e-15</td>\n",
       "      <td>1.148644e-16</td>\n",
       "      <td>-4.055544e-17</td>\n",
       "      <td>-4.306348e-17</td>\n",
       "      <td>-3.597339e-17</td>\n",
       "      <td>2.276797e-19</td>\n",
       "    </tr>\n",
       "    <tr>\n",
       "      <th>std</th>\n",
       "      <td>1.000128e+00</td>\n",
       "      <td>1.000128e+00</td>\n",
       "      <td>1.000128e+00</td>\n",
       "      <td>1.000128e+00</td>\n",
       "      <td>1.000128e+00</td>\n",
       "      <td>1.000128e+00</td>\n",
       "      <td>1.000128e+00</td>\n",
       "      <td>1.000128e+00</td>\n",
       "      <td>1.000128e+00</td>\n",
       "      <td>1.000128e+00</td>\n",
       "      <td>...</td>\n",
       "      <td>1.000128e+00</td>\n",
       "      <td>1.000128e+00</td>\n",
       "      <td>1.000128e+00</td>\n",
       "      <td>1.000128e+00</td>\n",
       "      <td>1.000128e+00</td>\n",
       "      <td>1.000128e+00</td>\n",
       "      <td>1.000128e+00</td>\n",
       "      <td>1.000128e+00</td>\n",
       "      <td>1.000128e+00</td>\n",
       "      <td>1.000128e+00</td>\n",
       "    </tr>\n",
       "    <tr>\n",
       "      <th>min</th>\n",
       "      <td>-2.370138e+00</td>\n",
       "      <td>-5.071030e+00</td>\n",
       "      <td>-6.852528e-01</td>\n",
       "      <td>-2.998391e+00</td>\n",
       "      <td>-7.180158e-01</td>\n",
       "      <td>-1.310963e+00</td>\n",
       "      <td>-6.852528e-01</td>\n",
       "      <td>-4.584034e+00</td>\n",
       "      <td>-5.258142e+00</td>\n",
       "      <td>-3.438193e-01</td>\n",
       "      <td>...</td>\n",
       "      <td>-4.849472e+00</td>\n",
       "      <td>-7.530488e-01</td>\n",
       "      <td>-5.050718e+00</td>\n",
       "      <td>-7.272077e-01</td>\n",
       "      <td>-6.251036e+00</td>\n",
       "      <td>-1.595650e+00</td>\n",
       "      <td>-1.717432e+00</td>\n",
       "      <td>-8.802070e-02</td>\n",
       "      <td>-6.891772e-01</td>\n",
       "      <td>-5.722232e-01</td>\n",
       "    </tr>\n",
       "    <tr>\n",
       "      <th>25%</th>\n",
       "      <td>-6.824897e-01</td>\n",
       "      <td>-6.244179e-01</td>\n",
       "      <td>-5.492044e-01</td>\n",
       "      <td>-7.191953e-01</td>\n",
       "      <td>-4.998331e-01</td>\n",
       "      <td>-7.316751e-01</td>\n",
       "      <td>-5.492044e-01</td>\n",
       "      <td>-6.036683e-01</td>\n",
       "      <td>-6.802832e-01</td>\n",
       "      <td>-3.085270e-01</td>\n",
       "      <td>...</td>\n",
       "      <td>-6.101174e-01</td>\n",
       "      <td>-5.814780e-01</td>\n",
       "      <td>-5.444550e-01</td>\n",
       "      <td>-5.851095e-01</td>\n",
       "      <td>-4.408251e-01</td>\n",
       "      <td>-1.024163e+00</td>\n",
       "      <td>-8.029375e-01</td>\n",
       "      <td>-7.819360e-02</td>\n",
       "      <td>-6.125091e-01</td>\n",
       "      <td>-5.140848e-01</td>\n",
       "    </tr>\n",
       "    <tr>\n",
       "      <th>50%</th>\n",
       "      <td>-1.710813e-01</td>\n",
       "      <td>6.727734e-02</td>\n",
       "      <td>-3.409876e-01</td>\n",
       "      <td>4.053647e-02</td>\n",
       "      <td>-2.942724e-01</td>\n",
       "      <td>-2.652354e-01</td>\n",
       "      <td>-3.409876e-01</td>\n",
       "      <td>1.295570e-01</td>\n",
       "      <td>2.352886e-01</td>\n",
       "      <td>-2.467916e-01</td>\n",
       "      <td>...</td>\n",
       "      <td>4.933779e-02</td>\n",
       "      <td>-3.378474e-01</td>\n",
       "      <td>4.331834e-02</td>\n",
       "      <td>-3.481440e-01</td>\n",
       "      <td>2.138465e-01</td>\n",
       "      <td>1.188094e-01</td>\n",
       "      <td>-2.754503e-03</td>\n",
       "      <td>-6.173196e-02</td>\n",
       "      <td>-3.211364e-01</td>\n",
       "      <td>-3.491079e-01</td>\n",
       "    </tr>\n",
       "    <tr>\n",
       "      <th>75%</th>\n",
       "      <td>4.937497e-01</td>\n",
       "      <td>7.589725e-01</td>\n",
       "      <td>1.273341e-01</td>\n",
       "      <td>7.460017e-01</td>\n",
       "      <td>1.114393e-01</td>\n",
       "      <td>4.494704e-01</td>\n",
       "      <td>1.273341e-01</td>\n",
       "      <td>7.580358e-01</td>\n",
       "      <td>2.352886e-01</td>\n",
       "      <td>-8.347924e-02</td>\n",
       "      <td>...</td>\n",
       "      <td>7.087930e-01</td>\n",
       "      <td>1.640687e-01</td>\n",
       "      <td>7.290539e-01</td>\n",
       "      <td>1.656110e-01</td>\n",
       "      <td>7.048503e-01</td>\n",
       "      <td>9.760389e-01</td>\n",
       "      <td>7.974285e-01</td>\n",
       "      <td>-2.782592e-02</td>\n",
       "      <td>1.802546e-01</td>\n",
       "      <td>7.665907e-02</td>\n",
       "    </tr>\n",
       "    <tr>\n",
       "      <th>max</th>\n",
       "      <td>8.318299e+00</td>\n",
       "      <td>2.735245e+00</td>\n",
       "      <td>1.161823e+01</td>\n",
       "      <td>2.373998e+00</td>\n",
       "      <td>1.527244e+01</td>\n",
       "      <td>6.182164e+00</td>\n",
       "      <td>1.161823e+01</td>\n",
       "      <td>2.538726e+00</td>\n",
       "      <td>2.982004e+00</td>\n",
       "      <td>2.580977e+01</td>\n",
       "      <td>...</td>\n",
       "      <td>2.592951e+00</td>\n",
       "      <td>1.094315e+01</td>\n",
       "      <td>2.688298e+00</td>\n",
       "      <td>1.052457e+01</td>\n",
       "      <td>1.277688e+00</td>\n",
       "      <td>1.547525e+00</td>\n",
       "      <td>1.711923e+00</td>\n",
       "      <td>3.676638e+01</td>\n",
       "      <td>1.194453e+01</td>\n",
       "      <td>1.352309e+01</td>\n",
       "    </tr>\n",
       "  </tbody>\n",
       "</table>\n",
       "<p>8 rows × 59 columns</p>\n",
       "</div>"
      ],
      "text/plain": [
       "           duration      avg_vote         votes     metascore  \\\n",
       "count  3.901000e+03  3.901000e+03  3.901000e+03  3.901000e+03   \n",
       "mean  -1.707598e-19 -4.815425e-16 -6.796238e-17 -8.976271e-17   \n",
       "std    1.000128e+00  1.000128e+00  1.000128e+00  1.000128e+00   \n",
       "min   -2.370138e+00 -5.071030e+00 -6.852528e-01 -2.998391e+00   \n",
       "25%   -6.824897e-01 -6.244179e-01 -5.492044e-01 -7.191953e-01   \n",
       "50%   -1.710813e-01  6.727734e-02 -3.409876e-01  4.053647e-02   \n",
       "75%    4.937497e-01  7.589725e-01  1.273341e-01  7.460017e-01   \n",
       "max    8.318299e+00  2.735245e+00  1.161823e+01  2.373998e+00   \n",
       "\n",
       "      reviews_from_users reviews_from_critics   total_votes     mean_vote  \\\n",
       "count       3.901000e+03         3.901000e+03  3.901000e+03  3.901000e+03   \n",
       "mean       -6.716550e-18        -7.911869e-17 -6.796238e-17 -8.249404e-16   \n",
       "std         1.000128e+00         1.000128e+00  1.000128e+00  1.000128e+00   \n",
       "min        -7.180158e-01        -1.310963e+00 -6.852528e-01 -4.584034e+00   \n",
       "25%        -4.998331e-01        -7.316751e-01 -5.492044e-01 -6.036683e-01   \n",
       "50%        -2.942724e-01        -2.652354e-01 -3.409876e-01  1.295570e-01   \n",
       "75%         1.114393e-01         4.494704e-01  1.273341e-01  7.580358e-01   \n",
       "max         1.527244e+01         6.182164e+00  1.161823e+01  2.538726e+00   \n",
       "\n",
       "        median_vote      votes_10  ... us_voters_rating us_voters_votes  \\\n",
       "count  3.901000e+03  3.901000e+03  ...     3.901000e+03    3.901000e+03   \n",
       "mean   6.015297e-16 -1.821437e-17  ...    -1.038845e-15   -6.636863e-17   \n",
       "std    1.000128e+00  1.000128e+00  ...     1.000128e+00    1.000128e+00   \n",
       "min   -5.258142e+00 -3.438193e-01  ...    -4.849472e+00   -7.530488e-01   \n",
       "25%   -6.802832e-01 -3.085270e-01  ...    -6.101174e-01   -5.814780e-01   \n",
       "50%    2.352886e-01 -2.467916e-01  ...     4.933779e-02   -3.378474e-01   \n",
       "75%    2.352886e-01 -8.347924e-02  ...     7.087930e-01    1.640687e-01   \n",
       "max    2.982004e+00  2.580977e+01  ...     2.592951e+00    1.094315e+01   \n",
       "\n",
       "      non_us_voters_rating non_us_voters_votes year_published month_published  \\\n",
       "count         3.901000e+03        3.901000e+03   3.901000e+03    3.901000e+03   \n",
       "mean         -1.436659e-16       -3.312739e-17   5.074638e-15    1.148644e-16   \n",
       "std           1.000128e+00        1.000128e+00   1.000128e+00    1.000128e+00   \n",
       "min          -5.050718e+00       -7.272077e-01  -6.251036e+00   -1.595650e+00   \n",
       "25%          -5.444550e-01       -5.851095e-01  -4.408251e-01   -1.024163e+00   \n",
       "50%           4.331834e-02       -3.481440e-01   2.138465e-01    1.188094e-01   \n",
       "75%           7.290539e-01        1.656110e-01   7.048503e-01    9.760389e-01   \n",
       "max           2.688298e+00        1.052457e+01   1.277688e+00    1.547525e+00   \n",
       "\n",
       "      day_published    New_budget New_usa_gross_income  \\\n",
       "count  3.901000e+03  3.901000e+03         3.901000e+03   \n",
       "mean  -4.055544e-17 -4.306348e-17        -3.597339e-17   \n",
       "std    1.000128e+00  1.000128e+00         1.000128e+00   \n",
       "min   -1.717432e+00 -8.802070e-02        -6.891772e-01   \n",
       "25%   -8.029375e-01 -7.819360e-02        -6.125091e-01   \n",
       "50%   -2.754503e-03 -6.173196e-02        -3.211364e-01   \n",
       "75%    7.974285e-01 -2.782592e-02         1.802546e-01   \n",
       "max    1.711923e+00  3.676638e+01         1.194453e+01   \n",
       "\n",
       "      New_worlwide_gross_income  \n",
       "count              3.901000e+03  \n",
       "mean               2.276797e-19  \n",
       "std                1.000128e+00  \n",
       "min               -5.722232e-01  \n",
       "25%               -5.140848e-01  \n",
       "50%               -3.491079e-01  \n",
       "75%                7.665907e-02  \n",
       "max                1.352309e+01  \n",
       "\n",
       "[8 rows x 59 columns]"
      ]
     },
     "execution_count": 50,
     "metadata": {},
     "output_type": "execute_result"
    }
   ],
   "source": [
    "X_train.describe()"
   ]
  },
  {
   "cell_type": "code",
   "execution_count": 51,
   "id": "649b450a",
   "metadata": {},
   "outputs": [
    {
     "data": {
      "text/plain": [
       "((array([], dtype=int64), array([], dtype=int64)),\n",
       " (array([], dtype=int64), array([], dtype=int64)))"
      ]
     },
     "execution_count": 51,
     "metadata": {},
     "output_type": "execute_result"
    }
   ],
   "source": [
    "np.where(np.isnan(X_train)),np.where(np.isnan(X_test))"
   ]
  },
  {
   "cell_type": "code",
   "execution_count": 52,
   "id": "a94517b7",
   "metadata": {},
   "outputs": [
    {
     "data": {
      "text/plain": [
       "((3901, 59), (976, 59))"
      ]
     },
     "execution_count": 52,
     "metadata": {},
     "output_type": "execute_result"
    }
   ],
   "source": []
  },
  {
   "cell_type": "code",
   "execution_count": 53,
   "id": "198da040",
   "metadata": {},
   "outputs": [],
   "source": [
    "#X_test = X_test.fillna(X_test.mean())\n",
    "#X_train = X_train.fillna(X_train.mean())"
   ]
  },
  {
   "cell_type": "code",
   "execution_count": 54,
   "id": "9534e403",
   "metadata": {},
   "outputs": [
    {
     "data": {
      "text/plain": [
       "((array([], dtype=int64), array([], dtype=int64)),\n",
       " (array([], dtype=int64), array([], dtype=int64)))"
      ]
     },
     "execution_count": 54,
     "metadata": {},
     "output_type": "execute_result"
    }
   ],
   "source": [
    "np.where(np.isnan(X_train)),np.where(np.isnan(X_test))"
   ]
  },
  {
   "cell_type": "code",
   "execution_count": null,
   "id": "4873c839",
   "metadata": {},
   "outputs": [],
   "source": []
  },
  {
   "cell_type": "code",
   "execution_count": 55,
   "id": "12ba950a",
   "metadata": {},
   "outputs": [
    {
     "data": {
      "text/plain": [
       "((3901, 59), (976, 59))"
      ]
     },
     "execution_count": 55,
     "metadata": {},
     "output_type": "execute_result"
    }
   ],
   "source": []
  },
  {
   "cell_type": "code",
   "execution_count": 62,
   "id": "3109e09a",
   "metadata": {},
   "outputs": [],
   "source": [
    "from sklearn.linear_model import LinearRegression\n",
    "from sklearn.linear_model import Lasso\n",
    "from sklearn.linear_model import ElasticNet\n",
    "from sklearn.tree import DecisionTreeRegressor\n",
    "from sklearn.neighbors import KNeighborsRegressor\n",
    "from sklearn.ensemble import GradientBoostingRegressor\n",
    "import numpy as np\n",
    "import pandas as pd\n",
    "from sklearn import datasets\n",
    "import seaborn as sns\n",
    "from sklearn.feature_selection import RFE\n",
    "from sklearn.model_selection import train_test_split\n",
    "from sklearn.model_selection import cross_val_score\n",
    "from sklearn.model_selection import KFold\n",
    "from sklearn.pipeline import Pipeline\n",
    "from sklearn.preprocessing import StandardScaler\n",
    "import matplotlib.pyplot as plt"
   ]
  },
  {
   "cell_type": "code",
   "execution_count": 66,
   "id": "c676ef7f",
   "metadata": {},
   "outputs": [
    {
     "name": "stdout",
     "output_type": "stream",
     "text": [
      "ScaledLR: -0.000000 (0.000000)\n",
      "ScaledLASSO: -1.001774 (0.099226)\n",
      "ScaledEN: -0.279465 (0.028468)\n",
      "ScaledKNN: -0.015119 (0.002849)\n",
      "ScaledCART: -0.000477 (0.000546)\n",
      "ScaledGBM: -0.000161 (0.000301)\n"
     ]
    }
   ],
   "source": [
    "pipelines = []\n",
    "pipelines.append(('ScaledLR', Pipeline([('Scaler', StandardScaler()),('LR',LinearRegression())])))\n",
    "pipelines.append(('ScaledLASSO', Pipeline([('Scaler', StandardScaler()),('LASSO', Lasso())])))\n",
    "pipelines.append(('ScaledEN', Pipeline([('Scaler', StandardScaler()),('EN', ElasticNet())])))\n",
    "pipelines.append(('ScaledKNN', Pipeline([('Scaler', StandardScaler()),('KNN', KNeighborsRegressor())])))\n",
    "pipelines.append(('ScaledCART', Pipeline([('Scaler', StandardScaler()),('CART', DecisionTreeRegressor())])))\n",
    "pipelines.append(('ScaledGBM', Pipeline([('Scaler', StandardScaler()),('GBM', GradientBoostingRegressor())])))\n",
    "\n",
    "results = []\n",
    "names = []\n",
    "for name, model in pipelines:\n",
    "    kfold = KFold(n_splits=10, random_state=None)\n",
    "    cv_results = cross_val_score(model, X_train, y_train, cv=kfold, scoring='neg_mean_squared_error')\n",
    "    results.append(cv_results)\n",
    "    names.append(name)\n",
    "    msg = \"%s: %f (%f)\" % (name, cv_results.mean(), cv_results.std())\n",
    "    print(msg)"
   ]
  },
  {
   "cell_type": "code",
   "execution_count": 68,
   "id": "67f08634",
   "metadata": {},
   "outputs": [
    {
     "name": "stdout",
     "output_type": "stream",
     "text": [
      "-0.000289 (0.000499) with: {'n_estimators': 50}\n",
      "-0.000165 (0.000299) with: {'n_estimators': 100}\n",
      "-0.000162 (0.000296) with: {'n_estimators': 200}\n",
      "-0.000162 (0.000295) with: {'n_estimators': 300}\n",
      "-0.000162 (0.000295) with: {'n_estimators': 400}\n",
      "Best: -0.000162 using {'n_estimators': 400}\n"
     ]
    }
   ],
   "source": [
    "from sklearn.model_selection import GridSearchCV\n",
    "\n",
    "scaler = StandardScaler().fit(X_train)\n",
    "rescaledX = scaler.transform(X_train)\n",
    "param_grid = dict(n_estimators=np.array([50,100,200,300,400]))\n",
    "model = GradientBoostingRegressor(random_state=21)\n",
    "kfold = KFold(n_splits=10, random_state=None)\n",
    "grid = GridSearchCV(estimator=model, param_grid=param_grid, scoring='neg_mean_squared_error', cv=kfold)\n",
    "grid_result = grid.fit(rescaledX, y_train)\n",
    "\n",
    "means = grid_result.cv_results_['mean_test_score']\n",
    "stds = grid_result.cv_results_['std_test_score']\n",
    "params = grid_result.cv_results_['params']\n",
    "for mean, stdev, param in zip(means, stds, params):\n",
    "    print(\"%f (%f) with: %r\" % (mean, stdev, param))\n",
    "\n",
    "print(\"Best: %f using %s\" % (grid_result.best_score_, grid_result.best_params_))"
   ]
  },
  {
   "cell_type": "code",
   "execution_count": 71,
   "id": "0fd3ad59",
   "metadata": {},
   "outputs": [
    {
     "name": "stdout",
     "output_type": "stream",
     "text": [
      "0.007317231916909207\n"
     ]
    }
   ],
   "source": [
    "from sklearn.metrics import mean_squared_error\n",
    "\n",
    "scaler = StandardScaler().fit(X_train)\n",
    "rescaled_X_train = scaler.transform(X_train)\n",
    "model = GradientBoostingRegressor(random_state=21, n_estimators=400)\n",
    "model.fit(rescaled_X_train, y_train)\n",
    "\n",
    "# transform the validation dataset\n",
    "rescaled_X_test = scaler.transform(X_test)\n",
    "predictions = model.predict(rescaled_X_test)\n",
    "print (mean_squared_error(y_test, predictions))"
   ]
  },
  {
   "cell_type": "code",
   "execution_count": 84,
   "id": "5adb9448",
   "metadata": {},
   "outputs": [
    {
     "name": "stdout",
     "output_type": "stream",
     "text": [
      "0.07222409056373356\n"
     ]
    }
   ],
   "source": [
    "from sklearn.metrics import mean_absolute_error\n",
    "\n",
    "scaler = StandardScaler().fit(X_train)\n",
    "rescaled_X_train = scaler.transform(X_train)\n",
    "model = GradientBoostingRegressor(random_state=21, n_estimators=400)\n",
    "model.fit(rescaled_X_train, y_train)\n",
    "\n",
    "# transform the validation dataset\n",
    "rescaled_X_test = scaler.transform(X_test)\n",
    "predictions = model.predict(rescaled_X_test)\n",
    "print (mean_absolute_error(y_test, predictions))"
   ]
  },
  {
   "cell_type": "code",
   "execution_count": 87,
   "id": "c86c6dae",
   "metadata": {},
   "outputs": [
    {
     "name": "stdout",
     "output_type": "stream",
     "text": [
      "r2_score is  0.9925786047033516\n"
     ]
    }
   ],
   "source": [
    "from sklearn.metrics import r2_score\n",
    "\n",
    "scaler = StandardScaler().fit(X_train)\n",
    "rescaled_X_train = scaler.transform(X_train)\n",
    "model = GradientBoostingRegressor(random_state=21, n_estimators=400)\n",
    "model.fit(rescaled_X_train, y_train)\n",
    "\n",
    "# transform the validation dataset\n",
    "rescaled_X_test = scaler.transform(X_test)\n",
    "predictions = model.predict(rescaled_X_test)\n",
    "print (\"r2_score is \" , r2_score(y_test, predictions))"
   ]
  },
  {
   "cell_type": "code",
   "execution_count": 86,
   "id": "79a7a89b",
   "metadata": {},
   "outputs": [
    {
     "name": "stdout",
     "output_type": "stream",
     "text": [
      "explained_variance_score is  0.997560967247737\n"
     ]
    }
   ],
   "source": [
    "from sklearn.metrics import explained_variance_score\n",
    "\n",
    "scaler = StandardScaler().fit(X_train)\n",
    "rescaled_X_train = scaler.transform(X_train)\n",
    "model = GradientBoostingRegressor(random_state=21, n_estimators=400)\n",
    "model.fit(rescaled_X_train, y_train)\n",
    "\n",
    "# transform the validation dataset\n",
    "rescaled_X_test = scaler.transform(X_test)\n",
    "predictions = model.predict(rescaled_X_test)\n",
    "print (\"explained_variance_score is \" , explained_variance_score(y_test, predictions))"
   ]
  },
  {
   "cell_type": "code",
   "execution_count": 88,
   "id": "ec5544ab",
   "metadata": {},
   "outputs": [
    {
     "name": "stdout",
     "output_type": "stream",
     "text": [
      "mean_pinball_loss is  0.03611204528186678\n"
     ]
    }
   ],
   "source": [
    "from sklearn.metrics import mean_pinball_loss\n",
    "\n",
    "scaler = StandardScaler().fit(X_train)\n",
    "rescaled_X_train = scaler.transform(X_train)\n",
    "model = GradientBoostingRegressor(random_state=21, n_estimators=400)\n",
    "model.fit(rescaled_X_train, y_train)\n",
    "\n",
    "# transform the validation dataset\n",
    "rescaled_X_test = scaler.transform(X_test)\n",
    "predictions = model.predict(rescaled_X_test)\n",
    "print (\"mean_pinball_loss is \" , mean_pinball_loss(y_test, predictions))"
   ]
  },
  {
   "cell_type": "code",
   "execution_count": null,
   "id": "12c72aa8",
   "metadata": {},
   "outputs": [],
   "source": []
  },
  {
   "cell_type": "code",
   "execution_count": 78,
   "id": "df98ea49",
   "metadata": {},
   "outputs": [
    {
     "data": {
      "text/html": [
       "<div>\n",
       "<style scoped>\n",
       "    .dataframe tbody tr th:only-of-type {\n",
       "        vertical-align: middle;\n",
       "    }\n",
       "\n",
       "    .dataframe tbody tr th {\n",
       "        vertical-align: top;\n",
       "    }\n",
       "\n",
       "    .dataframe thead th {\n",
       "        text-align: right;\n",
       "    }\n",
       "</style>\n",
       "<table border=\"1\" class=\"dataframe\">\n",
       "  <thead>\n",
       "    <tr style=\"text-align: right;\">\n",
       "      <th></th>\n",
       "      <th>Prediction</th>\n",
       "      <th>Test Data</th>\n",
       "    </tr>\n",
       "  </thead>\n",
       "  <tbody>\n",
       "    <tr>\n",
       "      <th>38845</th>\n",
       "      <td>6.900011</td>\n",
       "      <td>6.8</td>\n",
       "    </tr>\n",
       "    <tr>\n",
       "      <th>60395</th>\n",
       "      <td>5.599953</td>\n",
       "      <td>5.6</td>\n",
       "    </tr>\n",
       "    <tr>\n",
       "      <th>61206</th>\n",
       "      <td>6.800001</td>\n",
       "      <td>6.7</td>\n",
       "    </tr>\n",
       "    <tr>\n",
       "      <th>38708</th>\n",
       "      <td>6.799998</td>\n",
       "      <td>6.7</td>\n",
       "    </tr>\n",
       "    <tr>\n",
       "      <th>61517</th>\n",
       "      <td>7.099986</td>\n",
       "      <td>7.0</td>\n",
       "    </tr>\n",
       "    <tr>\n",
       "      <th>73755</th>\n",
       "      <td>7.399989</td>\n",
       "      <td>7.3</td>\n",
       "    </tr>\n",
       "    <tr>\n",
       "      <th>41487</th>\n",
       "      <td>6.299998</td>\n",
       "      <td>6.2</td>\n",
       "    </tr>\n",
       "    <tr>\n",
       "      <th>84176</th>\n",
       "      <td>7.600006</td>\n",
       "      <td>7.5</td>\n",
       "    </tr>\n",
       "    <tr>\n",
       "      <th>16786</th>\n",
       "      <td>6.899993</td>\n",
       "      <td>6.8</td>\n",
       "    </tr>\n",
       "    <tr>\n",
       "      <th>45224</th>\n",
       "      <td>6.799989</td>\n",
       "      <td>6.7</td>\n",
       "    </tr>\n",
       "    <tr>\n",
       "      <th>57678</th>\n",
       "      <td>7.499991</td>\n",
       "      <td>7.4</td>\n",
       "    </tr>\n",
       "    <tr>\n",
       "      <th>24724</th>\n",
       "      <td>7.700028</td>\n",
       "      <td>7.6</td>\n",
       "    </tr>\n",
       "    <tr>\n",
       "      <th>66427</th>\n",
       "      <td>6.500012</td>\n",
       "      <td>6.4</td>\n",
       "    </tr>\n",
       "    <tr>\n",
       "      <th>34128</th>\n",
       "      <td>8.799969</td>\n",
       "      <td>8.7</td>\n",
       "    </tr>\n",
       "    <tr>\n",
       "      <th>17753</th>\n",
       "      <td>8.399958</td>\n",
       "      <td>8.3</td>\n",
       "    </tr>\n",
       "    <tr>\n",
       "      <th>54914</th>\n",
       "      <td>7.099986</td>\n",
       "      <td>7.0</td>\n",
       "    </tr>\n",
       "    <tr>\n",
       "      <th>24216</th>\n",
       "      <td>6.000019</td>\n",
       "      <td>6.0</td>\n",
       "    </tr>\n",
       "    <tr>\n",
       "      <th>11413</th>\n",
       "      <td>7.099986</td>\n",
       "      <td>7.0</td>\n",
       "    </tr>\n",
       "    <tr>\n",
       "      <th>51717</th>\n",
       "      <td>6.900002</td>\n",
       "      <td>6.8</td>\n",
       "    </tr>\n",
       "    <tr>\n",
       "      <th>36660</th>\n",
       "      <td>6.900001</td>\n",
       "      <td>6.8</td>\n",
       "    </tr>\n",
       "  </tbody>\n",
       "</table>\n",
       "</div>"
      ],
      "text/plain": [
       "       Prediction  Test Data\n",
       "38845    6.900011        6.8\n",
       "60395    5.599953        5.6\n",
       "61206    6.800001        6.7\n",
       "38708    6.799998        6.7\n",
       "61517    7.099986        7.0\n",
       "73755    7.399989        7.3\n",
       "41487    6.299998        6.2\n",
       "84176    7.600006        7.5\n",
       "16786    6.899993        6.8\n",
       "45224    6.799989        6.7\n",
       "57678    7.499991        7.4\n",
       "24724    7.700028        7.6\n",
       "66427    6.500012        6.4\n",
       "34128    8.799969        8.7\n",
       "17753    8.399958        8.3\n",
       "54914    7.099986        7.0\n",
       "24216    6.000019        6.0\n",
       "11413    7.099986        7.0\n",
       "51717    6.900002        6.8\n",
       "36660    6.900001        6.8"
      ]
     },
     "execution_count": 78,
     "metadata": {},
     "output_type": "execute_result"
    }
   ],
   "source": [
    "compare = pd.DataFrame({'Prediction': predictions, 'Test Data' : y_test})\n",
    "compare.head(20)"
   ]
  },
  {
   "cell_type": "code",
   "execution_count": 80,
   "id": "1abbdf65",
   "metadata": {},
   "outputs": [
    {
     "data": {
      "text/plain": [
       "array([6.90001127, 5.5999526 , 6.80000115, 6.79999796, 7.09998639,\n",
       "       7.39998881, 6.29999794, 7.6000056 , 6.89999263, 6.79998927,\n",
       "       7.49999137, 7.70002816, 6.50001164, 8.79996894, 8.39995833,\n",
       "       7.09998639, 6.00001909, 7.09998601, 6.90000164, 6.90000116,\n",
       "       7.50000855, 5.20004604, 6.29998422, 5.90001221, 6.80000047,\n",
       "       7.00000574, 7.20001234, 7.50000991, 6.80001126, 6.69999438,\n",
       "       7.09998513, 7.29999934, 5.20002109, 6.79999116, 6.5999997 ,\n",
       "       6.80000089, 5.20014766, 6.00005157, 6.70000323, 6.39999888,\n",
       "       7.59997305, 5.40002773, 6.39999182, 7.29999846, 7.20001282,\n",
       "       7.70003079, 7.59997353, 6.39999962, 5.80002166, 7.09998464,\n",
       "       5.20006613, 7.29998804, 7.99999864, 6.79999986, 6.60000291,\n",
       "       6.30000288, 7.39998881, 3.70219728, 4.80030829, 7.39998832,\n",
       "       4.8001232 , 6.80000006, 3.08326251, 7.29999846, 4.59883202,\n",
       "       5.00002747, 7.20000442, 7.30000995, 5.09988454, 5.39998537,\n",
       "       5.50002656, 7.79997291, 7.39999007, 6.39999075, 5.40005271,\n",
       "       7.00000362, 6.70000739, 6.20000116, 5.80000969, 7.70001994,\n",
       "       7.00000187, 5.09993706, 6.19998235, 6.30001108, 6.70000787,\n",
       "       7.09998451, 7.50000855, 3.70173888, 6.20000459, 6.2000041 ,\n",
       "       6.70000517, 6.00000799, 8.10000322, 6.59999853, 7.70002864,\n",
       "       7.70002864, 7.79997547, 6.79999986, 7.79997332, 7.70002864,\n",
       "       7.79997284, 6.80000075, 6.39999937, 6.50001381, 5.59995497,\n",
       "       7.59996543, 7.40002755, 5.09990042, 6.79999875, 6.70000657,\n",
       "       5.70004746, 6.30000994, 4.40077269, 7.20001234, 9.01014097,\n",
       "       6.69999814, 5.20006069, 6.59999776, 5.59998884, 5.00030992,\n",
       "       7.00000324, 7.39999211, 6.8000012 , 6.60000951, 7.09997817,\n",
       "       7.99999698, 5.80001147, 5.20008679, 6.79999938, 7.79997284,\n",
       "       6.90000242, 7.39998881, 6.79998015, 6.89999377, 7.50001057,\n",
       "       6.2000158 , 7.09998   , 6.39999736, 7.00000187, 5.59994171,\n",
       "       7.39999418, 7.29999972, 6.79998927, 7.09998513, 7.39998881,\n",
       "       6.30001042, 5.40003297, 5.09992541, 6.30000453, 6.39999268,\n",
       "       6.90001127, 7.70002816, 6.29999794, 7.79996457, 6.90001263,\n",
       "       7.90003956, 7.09997183, 7.39998881, 7.99999696, 7.09998451,\n",
       "       4.30017331, 5.90000055, 8.49998699, 5.99999665, 7.09997935,\n",
       "       5.70005433, 5.00021387, 7.39999074, 5.29994327, 6.69999379,\n",
       "       7.09998464, 7.29999934, 6.39998688, 5.70007446, 7.79997421,\n",
       "       7.9000455 , 6.69999193, 8.59998624, 6.59997846, 7.09998464,\n",
       "       5.19947217, 7.59997353, 6.90001175, 6.39998171, 6.70000644,\n",
       "       6.29999081, 7.29999798, 6.70000517, 5.20006959, 7.2000136 ,\n",
       "       6.79998819, 6.90000116, 6.00001303, 7.20001234, 6.1999919 ,\n",
       "       6.49999982, 6.2999964 , 7.90003956, 6.00001496, 6.30000584,\n",
       "       7.00000187, 7.99999738, 6.70000739, 6.39999888, 7.00000364,\n",
       "       7.29999798, 5.89999023, 7.90003868, 7.59997305, 8.39997647,\n",
       "       4.40161388, 6.90001672, 7.29999846, 6.29999622, 2.20452712,\n",
       "       7.20001234, 5.59997684, 5.50007073, 6.29999227, 6.00001251,\n",
       "       6.50000309, 7.59997441, 7.50000855, 7.70002864, 6.59999668,\n",
       "       5.70001652, 6.59998123, 7.0999879 , 6.90001321, 5.59994719,\n",
       "       6.90000164, 6.30000023, 5.70037704, 5.99998728, 5.40001573,\n",
       "       5.59992486, 6.70000566, 8.09999569, 5.09993472, 9.1071911 ,\n",
       "       5.0999513 , 6.6999945 , 6.599997  , 7.20001234, 6.50000201,\n",
       "       5.90001309, 5.80001805, 6.5000082 , 6.50001366, 7.0999879 ,\n",
       "       6.90000116, 7.70002864, 6.50001164, 7.59997353, 6.50001212,\n",
       "       7.29999798, 7.2000137 , 6.59998932, 6.40000003, 3.57748866,\n",
       "       6.69999486, 6.70000707, 7.09998464, 7.79997459, 8.09999617,\n",
       "       7.39998194, 7.99999803, 8.19999201, 7.39996864, 6.59999964,\n",
       "       7.39999074, 5.10002542, 6.50000991, 6.39999937, 5.60000878,\n",
       "       7.59997311, 7.39998881, 5.80002483, 5.29998089, 7.29999345,\n",
       "       3.99389505, 6.30001042, 5.80001018, 6.59999491, 3.13712604,\n",
       "       7.29999924, 8.80938538, 7.29999846, 5.90002016, 7.00000513,\n",
       "       8.19999422, 7.09998513, 5.89999067, 7.70003805, 7.39998969,\n",
       "       6.50002116, 6.7000033 , 7.70002952, 6.30000274, 6.39998769,\n",
       "       6.29999794, 5.09967445, 6.50001164, 7.39999211, 6.50000321,\n",
       "       7.09997969, 7.20001348, 8.79911341, 5.5000283 , 7.90003819,\n",
       "       5.90001405, 7.29999784, 6.5000211 , 7.39999034, 6.29999096,\n",
       "       6.2000158 , 6.19997791, 7.29999846, 7.50000903, 6.7000148 ,\n",
       "       6.5000571 , 7.59997305, 7.29999805, 5.59993362, 5.09984038,\n",
       "       5.7000794 , 6.39998924, 6.29999794, 6.90001175, 7.50000855,\n",
       "       6.29999252, 6.59999749, 3.89886942, 8.09999678, 7.09998639,\n",
       "       6.69998509, 7.90003819, 8.09999617, 5.80001235, 5.50002744,\n",
       "       6.49997988, 6.20000053, 6.90000164, 7.09997385, 6.79998975,\n",
       "       6.50000105, 6.89999591, 6.70000469, 7.79997332, 8.09999678,\n",
       "       7.70002864, 7.90003956, 7.39998881, 7.39998832, 5.80001805,\n",
       "       6.90000116, 6.59999719, 6.70000807, 8.29998165, 6.79999006,\n",
       "       5.60000231, 6.90000096, 7.99999436, 6.39995958, 7.90003956,\n",
       "       7.20001234, 8.61406916, 7.09998464, 5.00021192, 5.59995495,\n",
       "       7.70002952, 6.29999495, 5.50001461, 7.00000187, 6.80000055,\n",
       "       6.49999963, 5.50005867, 7.99999738, 6.59998947, 7.00000173,\n",
       "       4.29812852, 5.99998677, 8.89995495, 6.79999986, 6.50000467,\n",
       "       6.50001414, 7.70004901, 6.90000164, 6.50000351, 6.99999224,\n",
       "       6.29999854, 7.29999798, 8.39995833, 6.90001127, 6.20000388,\n",
       "       7.79997284, 6.50001412, 6.79998927, 5.50003344, 4.70027618,\n",
       "       5.50002167, 6.79999896, 6.00000007, 8.09999617, 7.20000418,\n",
       "       6.99999108, 7.09998464, 7.39998839, 5.70002124, 5.59992418,\n",
       "       7.59997441, 5.00018291, 7.79996457, 3.13445957, 6.90000995,\n",
       "       3.80773249, 7.50000017, 5.2999249 , 7.79997332, 6.29999842,\n",
       "       5.80000574, 6.60003452, 5.29986308, 4.20378362, 6.50001288,\n",
       "       6.49999963, 4.30010523, 6.70000739, 4.40157358, 7.59997353,\n",
       "       6.50001366, 8.29998165, 5.50003944, 7.50000903, 4.90137498,\n",
       "       8.09999617, 7.00000187, 5.70006872, 8.09999744, 7.39999007,\n",
       "       6.19998714, 6.70000247, 7.00000173, 7.59997353, 6.69999219,\n",
       "       5.80002181, 7.40000925, 6.00001445, 6.89999733, 6.80001066,\n",
       "       5.80001147, 4.20461869, 7.39998832, 5.39992743, 6.59999865,\n",
       "       5.90000295, 7.29999846, 5.7000314 , 6.20000066, 5.70006334,\n",
       "       4.70020009, 6.80000006, 7.59995457, 6.40000076, 8.39995812,\n",
       "       6.50000862, 7.29999846, 8.39995833, 7.29999846, 7.30000127,\n",
       "       3.80520723, 6.69999345, 5.40001738, 6.70000476, 7.20001282,\n",
       "       7.09997701, 7.70003079, 6.50000138, 6.29998422, 6.50001164,\n",
       "       6.90000116, 6.90000072, 7.00000187, 7.29999912, 7.30000142,\n",
       "       6.00000196, 7.09998573, 6.79999111, 6.59998414, 6.59999757,\n",
       "       6.40000789, 6.19999545, 6.2999923 , 3.57865601, 6.19998634,\n",
       "       6.79999921, 7.00000235, 7.50000903, 7.70001785, 6.79999826,\n",
       "       5.50003944, 4.50102051, 6.50001212, 6.59999776, 6.79999278,\n",
       "       6.50000166, 7.09998591, 7.30003028, 6.50000012, 6.80000182,\n",
       "       7.90003956, 6.29998422, 7.50000078, 6.59997486, 6.60000008,\n",
       "       6.50001164, 6.90001922, 5.89998641, 6.50000105, 5.20006471,\n",
       "       7.50000862, 6.00001365, 7.2000137 , 5.09997076, 6.60000059,\n",
       "       7.90003819, 3.28368672, 5.40003512, 6.69998996, 6.59998675,\n",
       "       7.79997332, 5.70007988, 5.59993858, 7.70002864, 6.39999278,\n",
       "       6.8999867 , 5.90000243, 7.99999436, 6.50000012, 6.59997426,\n",
       "       5.59994314, 7.70002864, 6.99999519, 5.50006375, 7.20001282,\n",
       "       6.30001042, 6.90000252, 7.29999846, 8.49999092, 6.70000469,\n",
       "       7.09998471, 5.70005094, 6.99999224, 6.50000487, 7.79997284,\n",
       "       6.90000096, 8.20002821, 5.90000606, 7.59997305, 5.29997457,\n",
       "       6.69998509, 7.09998464, 6.89998341, 6.90001127, 7.70003013,\n",
       "       7.20001282, 5.80004864, 6.90000379, 6.5000124 , 5.09995777,\n",
       "       6.80000006, 6.19997657, 7.59997305, 5.00005533, 7.49999776,\n",
       "       8.61600085, 5.99998861, 8.09999744, 6.90000568, 2.4160588 ,\n",
       "       7.99999484, 8.09999576, 6.90000164, 6.59999888, 7.20002416,\n",
       "       7.70002823, 7.50000903, 5.90000815, 7.09998513, 7.39999095,\n",
       "       5.90001208, 6.60000722, 5.59997684, 6.79999311, 7.00000187,\n",
       "       5.40003074, 5.40004416, 7.2000077 , 6.2000038 , 6.89999751,\n",
       "       6.50001526, 6.30000453, 4.80067526, 7.50000661, 4.20441112,\n",
       "       5.7999856 , 7.29998388, 7.39999337, 6.20000381, 6.29999671,\n",
       "       6.90001127, 5.80003664, 6.00000265, 5.89999841, 5.29996762,\n",
       "       7.59997479, 5.59993679, 6.99999519, 7.00000187, 6.59999749,\n",
       "       5.89999754, 7.50001695, 7.29999329, 4.6985342 , 7.59997568,\n",
       "       5.20003446, 6.90000116, 6.4999862 , 6.79997476, 7.00000248,\n",
       "       6.50001306, 6.00000196, 6.29999252, 5.20006613, 5.80003931,\n",
       "       4.90219669, 5.50001698, 7.70002864, 6.19999921, 5.2000956 ,\n",
       "       5.2999639 , 5.70002602, 6.90000164, 6.80000153, 7.39999183,\n",
       "       6.30001293, 8.19999296, 7.59997568, 6.50000105, 5.80001235,\n",
       "       7.70002864, 5.79997289, 5.99998878, 5.29995562, 6.39999937,\n",
       "       6.60000722, 7.90003956, 6.50000928, 6.80000001, 5.50003053,\n",
       "       4.6008018 , 6.29999384, 6.60000847, 7.20001234, 5.7000794 ,\n",
       "       7.39999434, 6.20001109, 7.50000855, 6.79999986, 5.70006386,\n",
       "       7.59997305, 6.00001987, 6.80000335, 4.70003061, 5.80000895,\n",
       "       7.20001241, 6.19999459, 7.70002864, 3.70416201, 7.20001282,\n",
       "       6.59998194, 7.200013  , 4.60054343, 6.90000162, 7.29999995,\n",
       "       6.49999777, 7.90003868, 4.9021578 , 5.59996247, 4.60075005,\n",
       "       6.90000096, 5.09987969, 4.70057432, 8.09999617, 7.90003819,\n",
       "       4.79834464, 6.59999776, 6.90000048, 7.29999846, 7.20001234,\n",
       "       5.59994719, 5.40001621, 7.00000253, 6.00001365, 6.0000182 ,\n",
       "       6.39999888, 5.29999994, 7.20001282, 5.40001824, 4.7002325 ,\n",
       "       8.29998292, 7.00000445, 5.80000249, 6.60000551, 7.70005228,\n",
       "       5.2000546 , 5.10002371, 6.39997511, 4.90033872, 7.70002816,\n",
       "       5.50004929, 7.2000137 , 7.90003868, 7.79997284, 6.79998861,\n",
       "       4.40151792, 5.50002855, 6.59999776, 5.79999811, 5.59995021,\n",
       "       6.90000164, 6.30001608, 7.20001234, 6.70003738, 7.09998639,\n",
       "       6.20000086, 6.19999897, 5.90000007, 5.40000624, 7.00000235,\n",
       "       6.60000646, 6.50001526, 5.30009081, 7.59997649, 7.00000235,\n",
       "       7.90004082, 7.79997332, 5.09997415, 7.99999864, 6.50002234,\n",
       "       5.50003668, 6.599997  , 6.69999751, 5.09988207, 7.00000235,\n",
       "       7.50001052, 6.19998438, 6.70000501, 6.69999099, 5.99999905,\n",
       "       6.69998525, 6.80000006, 6.29999081, 7.90003956, 6.5000081 ,\n",
       "       6.79999986, 8.19999296, 5.70007807, 8.09999617, 6.80000171,\n",
       "       7.90004017, 7.59997441, 6.90000434, 6.40000171, 8.09998638,\n",
       "       5.59994686, 7.59997305, 4.40149715, 6.00000737, 3.9898415 ,\n",
       "       6.89999085, 7.7000293 , 7.39999211, 5.99996665, 4.60003643,\n",
       "       7.00000415, 6.79999904, 7.59997441, 7.50001214, 4.80030015,\n",
       "       5.89998317, 5.60011193, 6.79999765, 7.00001176, 6.30000994,\n",
       "       6.39998736, 5.70005134, 6.00000301, 8.19999296, 6.29999007,\n",
       "       7.00000187, 6.50001164, 6.30000453, 7.09997653, 7.99998593,\n",
       "       7.50000855, 7.70002864, 7.0000045 , 5.90000863, 6.29999936,\n",
       "       7.09998513, 6.00001192, 5.1000599 , 7.99999698, 5.20007461,\n",
       "       6.79999813, 7.39999095, 5.50004991, 6.59999776, 5.50008396,\n",
       "       6.19998925, 6.00000786, 6.90000116, 6.19999793, 5.80000034,\n",
       "       5.70006787, 6.99999628, 6.50000747, 6.7999897 , 5.49965075,\n",
       "       5.50003729, 6.90001491, 5.90001387, 6.19998764, 7.30000183,\n",
       "       6.90002663, 6.29999195, 7.29999784, 7.50001118, 3.28484004,\n",
       "       7.50000661, 4.20744347, 7.29999846, 4.70037613, 6.90000761,\n",
       "       6.90000164, 5.8000061 , 7.09997385, 6.90000096, 6.80000267,\n",
       "       5.09983485, 6.90000116, 6.90000164, 7.29999226, 7.20001497,\n",
       "       5.59994226, 8.39995439, 7.79997547, 6.80000459, 6.50000958,\n",
       "       7.90004725, 6.49998924, 6.50001594, 6.50001164, 7.59996543,\n",
       "       5.90000186, 6.79998807, 7.79997421, 5.59994314, 6.70000627,\n",
       "       4.40197868, 2.74841566, 6.79999938, 6.90001127, 6.60001038,\n",
       "       7.09998793, 3.80294536, 6.39999937, 6.49999441, 5.2999571 ,\n",
       "       5.70007229, 7.70000968, 8.09999744, 5.80000082, 8.39995898,\n",
       "       5.39999139, 6.60000951, 6.39999347, 6.39999347, 6.89999984,\n",
       "       5.90000223, 6.50000012, 6.19998714, 5.39998942, 4.49968689,\n",
       "       6.90000305, 6.29998076, 5.59997684, 3.41364475, 8.59998624,\n",
       "       6.8000012 , 6.00001199, 6.79999906, 5.40008653, 5.20009067,\n",
       "       6.79999123, 7.999991  , 5.09998778, 7.50001118, 7.00000187,\n",
       "       7.79997332, 5.59997873, 6.70000406, 6.50002494, 7.50000855,\n",
       "       7.59997538, 6.30000994, 6.80000949, 7.29999846, 5.29998657,\n",
       "       5.8000036 , 7.09998513, 6.0000193 , 5.59990871, 7.09998578,\n",
       "       5.5001832 , 7.70002952, 7.09998601, 5.50004649, 7.09998464,\n",
       "       4.60029554, 3.57804597, 5.70004389, 7.99999738, 5.29995628,\n",
       "       5.29996745, 7.79997332, 3.50218716, 6.1999785 , 5.59997232,\n",
       "       7.29999798, 6.69999645, 6.79999668, 5.29996213, 6.29998439,\n",
       "       6.80000573, 5.59994719, 5.40001573, 4.60085518, 7.39998832,\n",
       "       7.0999879 , 5.69999996, 6.29999081, 4.49835825, 5.29994613,\n",
       "       7.20001234, 7.09998601, 6.90000164, 6.300007  , 6.80001208,\n",
       "       6.19999502, 8.19999075, 5.79998323, 6.8000336 , 6.50001212,\n",
       "       5.60013287, 6.30000288, 6.39998517, 5.99999498, 5.59996965,\n",
       "       8.09999744, 2.56601298, 5.59997141, 6.90000291, 7.09998513,\n",
       "       6.39999937])"
      ]
     },
     "execution_count": 80,
     "metadata": {},
     "output_type": "execute_result"
    }
   ],
   "source": [
    "y_pred_test = predictions\n",
    "\n",
    "y_pred_test"
   ]
  },
  {
   "cell_type": "code",
   "execution_count": 82,
   "id": "6910fba9",
   "metadata": {},
   "outputs": [],
   "source": []
  },
  {
   "cell_type": "code",
   "execution_count": 83,
   "id": "4265163a",
   "metadata": {},
   "outputs": [
    {
     "ename": "TypeError",
     "evalue": "ABCMeta object argument after ** must be a mapping, not list",
     "output_type": "error",
     "traceback": [
      "\u001b[0;31m---------------------------------------------------------------------------\u001b[0m",
      "\u001b[0;31mTypeError\u001b[0m                                 Traceback (most recent call last)",
      "\u001b[0;32m/var/folders/k2/95svp8cj63s8x9kvhvh79g340000gn/T/ipykernel_16484/1724894812.py\u001b[0m in \u001b[0;36m<module>\u001b[0;34m\u001b[0m\n\u001b[0;32m----> 1\u001b[0;31m \u001b[0mreg\u001b[0m \u001b[0;34m=\u001b[0m \u001b[0mensemble\u001b[0m\u001b[0;34m.\u001b[0m\u001b[0mGradientBoostingRegressor\u001b[0m\u001b[0;34m(\u001b[0m\u001b[0;34m**\u001b[0m\u001b[0mparams\u001b[0m\u001b[0;34m)\u001b[0m\u001b[0;34m\u001b[0m\u001b[0;34m\u001b[0m\u001b[0m\n\u001b[0m\u001b[1;32m      2\u001b[0m \u001b[0mreg\u001b[0m\u001b[0;34m.\u001b[0m\u001b[0mfit\u001b[0m\u001b[0;34m(\u001b[0m\u001b[0mX_train\u001b[0m\u001b[0;34m,\u001b[0m \u001b[0my_train\u001b[0m\u001b[0;34m)\u001b[0m\u001b[0;34m\u001b[0m\u001b[0;34m\u001b[0m\u001b[0m\n\u001b[1;32m      3\u001b[0m \u001b[0;34m\u001b[0m\u001b[0m\n\u001b[1;32m      4\u001b[0m \u001b[0mmse\u001b[0m \u001b[0;34m=\u001b[0m \u001b[0mmean_squared_error\u001b[0m\u001b[0;34m(\u001b[0m\u001b[0my_test\u001b[0m\u001b[0;34m,\u001b[0m \u001b[0mreg\u001b[0m\u001b[0;34m.\u001b[0m\u001b[0mpredict\u001b[0m\u001b[0;34m(\u001b[0m\u001b[0mX_test\u001b[0m\u001b[0;34m)\u001b[0m\u001b[0;34m)\u001b[0m\u001b[0;34m\u001b[0m\u001b[0;34m\u001b[0m\u001b[0m\n\u001b[1;32m      5\u001b[0m \u001b[0mprint\u001b[0m\u001b[0;34m(\u001b[0m\u001b[0;34m\"The mean squared error (MSE) on test set: {:.4f}\"\u001b[0m\u001b[0;34m.\u001b[0m\u001b[0mformat\u001b[0m\u001b[0;34m(\u001b[0m\u001b[0mmse\u001b[0m\u001b[0;34m)\u001b[0m\u001b[0;34m)\u001b[0m\u001b[0;34m\u001b[0m\u001b[0;34m\u001b[0m\u001b[0m\n",
      "\u001b[0;31mTypeError\u001b[0m: ABCMeta object argument after ** must be a mapping, not list"
     ]
    }
   ],
   "source": []
  },
  {
   "cell_type": "code",
   "execution_count": null,
   "id": "907d5a59",
   "metadata": {},
   "outputs": [],
   "source": []
  }
 ],
 "metadata": {
  "kernelspec": {
   "display_name": "Python 3 (ipykernel)",
   "language": "python",
   "name": "python3"
  },
  "language_info": {
   "codemirror_mode": {
    "name": "ipython",
    "version": 3
   },
   "file_extension": ".py",
   "mimetype": "text/x-python",
   "name": "python",
   "nbconvert_exporter": "python",
   "pygments_lexer": "ipython3",
   "version": "3.8.2"
  }
 },
 "nbformat": 4,
 "nbformat_minor": 5
}
